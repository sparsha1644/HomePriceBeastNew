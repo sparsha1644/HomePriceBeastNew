{
 "cells": [
  {
   "cell_type": "markdown",
   "id": "e48b616c-b54a-4b5b-8323-328f0f20a6e2",
   "metadata": {},
   "source": [
    "## Final Project - Beast Team. \n",
    "Idea : Pandemic has driven people more towards the suburbs causing a surge in home prices. Naturally, this implies a new supply is going to come about (we've seen that in 2008). In this project, we create two TS-ML models - one that uses historical home prices to predict supply and one that uses historical supply & current interest rates to predict home prices. We will then utilize the former to predict the supply for major cities; we will then feed those predictions into the latter to predict home prices under various interest regimes for the same major cities."
   ]
  },
  {
   "cell_type": "markdown",
   "id": "0e28f71d-318c-49b3-a50d-3ef1f1d24468",
   "metadata": {},
   "source": [
    "$$s_{jt}=f(X_j,X_t,s_{jt-1},...,s_{jt-k},p_{jt-1},...,p_{jt-k} )+\\epsilon_{jt}$$\n",
    "\n",
    "$s_{jt}$  is Supply for county $j$ at time $t$.\n",
    "\n",
    "$X_j$ are demographic features for county $j$, example: population of a county, income per capita.\n",
    "\n",
    "$X_t$ are time specific features, example: Summer fixed effect [indicator variable to represent summer and capture the regime difference of increased supply] etc. \n",
    "\n",
    "$p_jt$  is home value index for county $j$ at time $t$. We will only consider single family homes for this analysis. \n",
    "[Add a note on calculation of home value index]\n",
    "\n",
    "$$p_{jt}=g(s_{jt},s_{jt-1},...,s_{jt-k},r_t,X_j,X_t,p_{jt-1},...,p_{jt-k} )+\\nu_{jt}$$\n",
    "\n",
    "$r_t$ is the interest rate at time $t$.\n",
    "\n",
    "Here we have considered even the historical supply and historical prices since at a previous point, there may have been over supply of homes. \n",
    "\n",
    "Goal: Estimation of  $\\hat{f} $ and $\\hat{g}$ using ML. \n"
   ]
  },
  {
   "cell_type": "markdown",
   "id": "0d27691c-24b9-4e81-b09d-a0a13f16d8cd",
   "metadata": {},
   "source": [
    "Data cleaning and preparation steps. \n",
    "1) Combine multiple census data in one file. [ETA - 06/19 - EOD PDT]\n",
    "   - Each county may have data retrieved for census at differnt points, we will take the latest data for modeling. \n",
    "2) Get two letter code mapping for states. [Done]\n",
    "3) Filter out only 4 weeks data from home_data. [Done]\n",
    "4) Split region data in home_data and join on two letter data, state-county. [Done]\n",
    "5) Get month from 4 week data and combine with interest rate data. [Done]"
   ]
  },
  {
   "cell_type": "markdown",
   "id": "6c66eedb-697c-45d4-920e-a70026a9a37b",
   "metadata": {},
   "source": [
    "TODO : Visualizations to build. \n",
    "1) Geographically increase in prices and supply side by side heat map. \n",
    "2) Scatter plot of 2020 latest price on Y, and \n",
    "    - Population\n",
    "    - Income/Poverty\n",
    "    - Education \n",
    "        - Percent of adults with less than a high school diploma, 2015-19\n",
    "        - Percent of adults with a high school diploma only, 2015-19\n",
    "        - Percent of adults completing some college or associate's degree, 2015-19\n",
    "        - Percent of adults with a bachelor's degree or higher, 2015-19)"
   ]
  },
  {
   "cell_type": "markdown",
   "id": "91cb1caf-2af0-4f4f-8b27-1e35f6dab472",
   "metadata": {},
   "source": [
    "TODO : Basic modelling.\n",
    "    1) Select demographic features using LASSO, Median home prices 2017 vs RHS [All demographics]"
   ]
  },
  {
   "cell_type": "code",
   "execution_count": 27,
   "id": "02504edb-3a1d-4b8e-b618-2127d86f58d8",
   "metadata": {},
   "outputs": [],
   "source": [
    "import pandas as pd"
   ]
  },
  {
   "cell_type": "code",
   "execution_count": 28,
   "id": "483b1c77-d5d1-40d8-9f1e-3d72d1de4755",
   "metadata": {},
   "outputs": [],
   "source": [
    "data_folder = \"C:\\\\Users\\\\spsundar.FAREAST\\\\OneDrive - Microsoft\\\\Documents\\\\Masters\\\\Coursework\\\\TML\\\\HomePriceBeastNew\\\\\""
   ]
  },
  {
   "cell_type": "code",
   "execution_count": 29,
   "id": "adb7016c-5323-4ffd-bf7f-3bb280363347",
   "metadata": {},
   "outputs": [],
   "source": [
    "raw_home_data = pd.read_csv(f\"{data_folder}weekly_housing_market_data_most_recent.tsv\", delimiter=\"\\t\")"
   ]
  },
  {
   "cell_type": "code",
   "execution_count": 30,
   "id": "0c0919bc-c4a1-4c9c-b693-0de961b092ea",
   "metadata": {},
   "outputs": [],
   "source": [
    "merged_census_county_data = pd.read_csv(f\"{data_folder}merged_census_county_data.csv\", low_memory=False)"
   ]
  },
  {
   "cell_type": "code",
   "execution_count": 31,
   "id": "121f09e7-6cd1-4a41-b11d-2133f358edc7",
   "metadata": {},
   "outputs": [],
   "source": [
    "interest_data = pd.read_csv(f\"{data_folder}fed_funds.csv\")\n",
    "interest_data[\"DATE\"] = pd.to_datetime(interest_data[\"DATE\"])"
   ]
  },
  {
   "cell_type": "code",
   "execution_count": 32,
   "id": "9c593377-e66e-4da1-9610-4ce8c1921b71",
   "metadata": {},
   "outputs": [],
   "source": [
    "state_mapping_data = pd.read_csv(f\"{data_folder}lettercodestatemapping.csv\")\n",
    "state_mapping_data = state_mapping_data[['State', 'Code']]"
   ]
  },
  {
   "cell_type": "code",
   "execution_count": 33,
   "id": "4f2e53ca-c7ab-4e74-a840-9a9790014d11",
   "metadata": {},
   "outputs": [],
   "source": [
    "def combine_datasets(merged_census_county_data, home_data, interest_data):\n",
    "    \n",
    "    merged_home_data = pd.merge(\n",
    "    home_data,\n",
    "    interest_data,\n",
    "    how=\"inner\",\n",
    "    left_on=\"period_month_year\",\n",
    "    right_on=\"DATE\",\n",
    "    right_index=False)\n",
    "\n",
    "    merged_home_data = pd.merge(\n",
    "        merged_home_data,\n",
    "        merged_census_county_data,\n",
    "        how=\"inner\",\n",
    "        right_index=False)\n",
    "    \n",
    "    return merged_home_data"
   ]
  },
  {
   "cell_type": "code",
   "execution_count": 34,
   "id": "878f6ee2-5a1a-4817-bae3-f87d2636e46b",
   "metadata": {},
   "outputs": [],
   "source": [
    "def clean_home_data(raw_home_data):\n",
    "    home_data = raw_home_data\n",
    "    home_data.drop(home_data[home_data[\"region_type\"]!='county'].index, inplace = True)\n",
    "    home_data[\"county_name\"] = home_data[\"region_name\"].apply(lambda x: x.split(',')[0])\n",
    "    home_data[\"state_code\"] = home_data[\"region_name\"].apply(lambda x: x.split(', ')[1])\n",
    "    home_data['period_begin'] = pd.to_datetime(home_data['period_begin'])\n",
    "    home_data['period_end'] = pd.to_datetime(home_data['period_end'])\n",
    "    home_data['period_diff'] = home_data['period_end'] - home_data['period_begin']\n",
    "    home_data['period_diff'] = home_data['period_diff'].apply(lambda x : x.days)\n",
    "    home_data.drop(home_data[home_data['period_diff']!=27].index, inplace = True)\n",
    "    home_data[\"period_month_year\"] = pd.to_datetime( home_data[\"period_begin\"].dt.year.astype(str) + '-' + home_data[\"period_begin\"].dt.month.astype(str)  + '-1')\n",
    "    return home_data"
   ]
  },
  {
   "cell_type": "code",
   "execution_count": null,
   "id": "65101541-d3bf-4544-872e-6b4680f0cf62",
   "metadata": {},
   "outputs": [],
   "source": [
    "home_data = clean_home_data(raw_home_data)\n",
    "combined_home_data = combine_datasets(merged_census_county_data,\n",
    "                                      home_data,\n",
    "                                      interest_data)"
   ]
  },
  {
   "cell_type": "code",
   "execution_count": null,
   "id": "01e5cd1b-5551-47d3-87c8-43ac2cccf843",
   "metadata": {},
   "outputs": [],
   "source": [
    "ignore_cols = ['Unnamed: 165', 'duration', 'last_updated',\n",
    "                   'region_type', 'region_name', 'region_type_id',\n",
    "                   'period_diff', 'DATE'] \n",
    "combined_home_data = combined_home_data[[x for x in \\\n",
    "                                     combined_home_data.columns \\\n",
    "                                     if x not in ignore_cols]]"
   ]
  },
  {
   "cell_type": "code",
   "execution_count": null,
   "id": "095405ab-8258-4514-bda7-d4ff26bcc8e1",
   "metadata": {},
   "outputs": [],
   "source": [
    "combined_home_data.to_csv(f\"{data_folder}combined_home_data.csv\", index=False)"
   ]
  },
  {
   "cell_type": "code",
   "execution_count": null,
   "id": "03a47284-9fad-422b-a052-d15b603416af",
   "metadata": {},
   "outputs": [],
   "source": [
    "for x in combined_home_data.columns:\n",
    "    print(x)"
   ]
  },
  {
   "cell_type": "code",
   "execution_count": null,
   "id": "fc57c295-0131-4ed5-9bfb-872aeac064bf",
   "metadata": {},
   "outputs": [],
   "source": []
  },
  {
   "cell_type": "code",
   "execution_count": null,
   "id": "347c9d93-d365-450c-8822-4beeb8cec183",
   "metadata": {},
   "outputs": [],
   "source": []
  }
 ],
 "metadata": {
  "kernelspec": {
   "display_name": "Python 3",
   "language": "python",
   "name": "python3"
  },
  "language_info": {
   "codemirror_mode": {
    "name": "ipython",
    "version": 3
   },
   "file_extension": ".py",
   "mimetype": "text/x-python",
   "name": "python",
   "nbconvert_exporter": "python",
   "pygments_lexer": "ipython3",
   "version": "3.9.4"
  }
 },
 "nbformat": 4,
 "nbformat_minor": 5
}
