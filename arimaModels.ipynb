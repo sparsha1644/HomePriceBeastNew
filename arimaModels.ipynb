{
 "cells": [
  {
   "cell_type": "markdown",
   "metadata": {},
   "source": [
    "# ARIMA Model Tutorial\n",
    "This notebook is a simple tutorial for fitting an ARIMA model in Python, loosely following the steps at https://machinelearningmastery.com/arima-for-time-series-forecasting-with-python/."
   ]
  },
  {
   "cell_type": "code",
   "execution_count": 30,
   "metadata": {},
   "outputs": [],
   "source": [
    "# Packages\n",
    "import pandas as pd\n",
    "import numpy as np\n",
    "from statsmodels.tsa.arima_model import ARIMA\n",
    "from matplotlib import pyplot\n",
    "import pmdarima as pm"
   ]
  },
  {
   "cell_type": "code",
   "execution_count": 31,
   "metadata": {},
   "outputs": [],
   "source": [
    "# Simulate an AR(1) process\n",
    "T = 10000\n",
    "rho = 0.5\n",
    "epsilon = np.random.normal(0,1,T)\n",
    "X = np.empty([T,1])\n",
    "X[0] = epsilon[0]\n",
    "for i in range(1,T):\n",
    "    X[i] = rho*X[i-1] + epsilon[i]"
   ]
  },
  {
   "cell_type": "code",
   "execution_count": 32,
   "metadata": {},
   "outputs": [
    {
     "data": {
      "text/plain": [
       "<matplotlib.axes._subplots.AxesSubplot at 0x2b03b6bcf08>"
      ]
     },
     "execution_count": 32,
     "metadata": {},
     "output_type": "execute_result"
    },
    {
     "data": {
      "image/png": "[encoded data removed]",
      "text/plain": [
       "<Figure size 432x288 with 1 Axes>"
      ]
     },
     "metadata": {
      "needs_background": "light"
     },
     "output_type": "display_data"
    }
   ],
   "source": [
    "# Convert into a pandas dts\n",
    "X = pd.DataFrame(X, columns=['Data'], index=pd.DatetimeIndex(pd.date_range(start='1/1/1990',periods=T)))\n",
    "X['Data'] = X['Data'].cumsum()\n",
    "X.plot()\n"
   ]
  },
  {
   "cell_type": "code",
   "execution_count": 33,
   "metadata": {},
   "outputs": [],
   "source": [
    "# Fit the ARIMA model\n",
    "model = pm.auto_arima(X, seasonal=False)"
   ]
  },
  {
   "cell_type": "code",
   "execution_count": 34,
   "metadata": {},
   "outputs": [
    {
     "data": {
      "text/html": [
       "<table class=\"simpletable\">\n",
       "<caption>SARIMAX Results</caption>\n",
       "<tr>\n",
       "  <th>Dep. Variable:</th>           <td>y</td>        <th>  No. Observations:  </th>    <td>10000</td>  \n",
       "</tr>\n",
       "<tr>\n",
       "  <th>Model:</th>           <td>SARIMAX(1, 1, 0)</td> <th>  Log Likelihood     </th> <td>-14163.808</td>\n",
       "</tr>\n",
       "<tr>\n",
       "  <th>Date:</th>            <td>Thu, 22 Jul 2021</td> <th>  AIC                </th>  <td>28333.616</td>\n",
       "</tr>\n",
       "<tr>\n",
       "  <th>Time:</th>                <td>19:12:08</td>     <th>  BIC                </th>  <td>28355.247</td>\n",
       "</tr>\n",
       "<tr>\n",
       "  <th>Sample:</th>                  <td>0</td>        <th>  HQIC               </th>  <td>28340.938</td>\n",
       "</tr>\n",
       "<tr>\n",
       "  <th></th>                     <td> - 10000</td>     <th>                     </th>      <td> </td>    \n",
       "</tr>\n",
       "<tr>\n",
       "  <th>Covariance Type:</th>        <td>opg</td>       <th>                     </th>      <td> </td>    \n",
       "</tr>\n",
       "</table>\n",
       "<table class=\"simpletable\">\n",
       "<tr>\n",
       "      <td></td>         <th>coef</th>     <th>std err</th>      <th>z</th>      <th>P>|z|</th>  <th>[0.025</th>    <th>0.975]</th>  \n",
       "</tr>\n",
       "<tr>\n",
       "  <th>intercept</th> <td>    0.0142</td> <td>    0.010</td> <td>    1.421</td> <td> 0.155</td> <td>   -0.005</td> <td>    0.034</td>\n",
       "</tr>\n",
       "<tr>\n",
       "  <th>ar.L1</th>     <td>    0.4998</td> <td>    0.009</td> <td>   57.399</td> <td> 0.000</td> <td>    0.483</td> <td>    0.517</td>\n",
       "</tr>\n",
       "<tr>\n",
       "  <th>sigma2</th>    <td>    0.9951</td> <td>    0.014</td> <td>   71.292</td> <td> 0.000</td> <td>    0.968</td> <td>    1.022</td>\n",
       "</tr>\n",
       "</table>\n",
       "<table class=\"simpletable\">\n",
       "<tr>\n",
       "  <th>Ljung-Box (L1) (Q):</th>     <td>0.04</td> <th>  Jarque-Bera (JB):  </th> <td>0.52</td>\n",
       "</tr>\n",
       "<tr>\n",
       "  <th>Prob(Q):</th>                <td>0.83</td> <th>  Prob(JB):          </th> <td>0.77</td>\n",
       "</tr>\n",
       "<tr>\n",
       "  <th>Heteroskedasticity (H):</th> <td>1.01</td> <th>  Skew:              </th> <td>0.00</td>\n",
       "</tr>\n",
       "<tr>\n",
       "  <th>Prob(H) (two-sided):</th>    <td>0.87</td> <th>  Kurtosis:          </th> <td>3.03</td>\n",
       "</tr>\n",
       "</table><br/><br/>Warnings:<br/>[1] Covariance matrix calculated using the outer product of gradients (complex-step)."
      ],
      "text/plain": [
       "<class 'statsmodels.iolib.summary.Summary'>\n",
       "\"\"\"\n",
       "                               SARIMAX Results                                \n",
       "==============================================================================\n",
       "Dep. Variable:                      y   No. Observations:                10000\n",
       "Model:               SARIMAX(1, 1, 0)   Log Likelihood              -14163.808\n",
       "Date:                Thu, 22 Jul 2021   AIC                          28333.616\n",
       "Time:                        19:12:08   BIC                          28355.247\n",
       "Sample:                             0   HQIC                         28340.938\n",
       "                              - 10000                                         \n",
       "Covariance Type:                  opg                                         \n",
       "==============================================================================\n",
       "                 coef    std err          z      P>|z|      [0.025      0.975]\n",
       "------------------------------------------------------------------------------\n",
       "intercept      0.0142      0.010      1.421      0.155      -0.005       0.034\n",
       "ar.L1          0.4998      0.009     57.399      0.000       0.483       0.517\n",
       "sigma2         0.9951      0.014     71.292      0.000       0.968       1.022\n",
       "===================================================================================\n",
       "Ljung-Box (L1) (Q):                   0.04   Jarque-Bera (JB):                 0.52\n",
       "Prob(Q):                              0.83   Prob(JB):                         0.77\n",
       "Heteroskedasticity (H):               1.01   Skew:                             0.00\n",
       "Prob(H) (two-sided):                  0.87   Kurtosis:                         3.03\n",
       "===================================================================================\n",
       "\n",
       "Warnings:\n",
       "[1] Covariance matrix calculated using the outer product of gradients (complex-step).\n",
       "\"\"\""
      ]
     },
     "execution_count": 34,
     "metadata": {},
     "output_type": "execute_result"
    }
   ],
   "source": [
    "model.summary()"
   ]
  },
  {
   "cell_type": "code",
   "execution_count": 36,
   "metadata": {
    "scrolled": true
   },
   "outputs": [
    {
     "data": {
      "text/html": [
       "<div>\n",
       "<style scoped>\n",
       "    .dataframe tbody tr th:only-of-type {\n",
       "        vertical-align: middle;\n",
       "    }\n",
       "\n",
       "    .dataframe tbody tr th {\n",
       "        vertical-align: top;\n",
       "    }\n",
       "\n",
       "    .dataframe thead th {\n",
       "        text-align: right;\n",
       "    }\n",
       "</style>\n",
       "<table border=\"1\" class=\"dataframe\">\n",
       "  <thead>\n",
       "    <tr style=\"text-align: right;\">\n",
       "      <th></th>\n",
       "      <th>Data</th>\n",
       "      <th>Fit</th>\n",
       "    </tr>\n",
       "  </thead>\n",
       "  <tbody>\n",
       "    <tr>\n",
       "      <td>1990-01-01</td>\n",
       "      <td>-0.981293</td>\n",
       "      <td>0.028362</td>\n",
       "    </tr>\n",
       "    <tr>\n",
       "      <td>1990-01-02</td>\n",
       "      <td>-3.206370</td>\n",
       "      <td>-0.952932</td>\n",
       "    </tr>\n",
       "    <tr>\n",
       "      <td>1990-01-03</td>\n",
       "      <td>-3.332543</td>\n",
       "      <td>-4.304243</td>\n",
       "    </tr>\n",
       "    <tr>\n",
       "      <td>1990-01-04</td>\n",
       "      <td>-2.722876</td>\n",
       "      <td>-3.381415</td>\n",
       "    </tr>\n",
       "    <tr>\n",
       "      <td>1990-01-05</td>\n",
       "      <td>-2.681342</td>\n",
       "      <td>-2.403987</td>\n",
       "    </tr>\n",
       "    <tr>\n",
       "      <td>...</td>\n",
       "      <td>...</td>\n",
       "      <td>...</td>\n",
       "    </tr>\n",
       "    <tr>\n",
       "      <td>2017-05-14</td>\n",
       "      <td>289.060346</td>\n",
       "      <td>288.019298</td>\n",
       "    </tr>\n",
       "    <tr>\n",
       "      <td>2017-05-15</td>\n",
       "      <td>288.066715</td>\n",
       "      <td>290.398185</td>\n",
       "    </tr>\n",
       "    <tr>\n",
       "      <td>2017-05-16</td>\n",
       "      <td>288.232607</td>\n",
       "      <td>287.584300</td>\n",
       "    </tr>\n",
       "    <tr>\n",
       "      <td>2017-05-17</td>\n",
       "      <td>286.676260</td>\n",
       "      <td>288.329703</td>\n",
       "    </tr>\n",
       "    <tr>\n",
       "      <td>2017-05-18</td>\n",
       "      <td>285.894649</td>\n",
       "      <td>285.912608</td>\n",
       "    </tr>\n",
       "  </tbody>\n",
       "</table>\n",
       "<p>10000 rows × 2 columns</p>\n",
       "</div>"
      ],
      "text/plain": [
       "                  Data         Fit\n",
       "1990-01-01   -0.981293    0.028362\n",
       "1990-01-02   -3.206370   -0.952932\n",
       "1990-01-03   -3.332543   -4.304243\n",
       "1990-01-04   -2.722876   -3.381415\n",
       "1990-01-05   -2.681342   -2.403987\n",
       "...                ...         ...\n",
       "2017-05-14  289.060346  288.019298\n",
       "2017-05-15  288.066715  290.398185\n",
       "2017-05-16  288.232607  287.584300\n",
       "2017-05-17  286.676260  288.329703\n",
       "2017-05-18  285.894649  285.912608\n",
       "\n",
       "[10000 rows x 2 columns]"
      ]
     },
     "execution_count": 36,
     "metadata": {},
     "output_type": "execute_result"
    },
    {
     "data": {
      "image/png": "[encoded data removed]",
      "text/plain": [
       "<Figure size 432x288 with 1 Axes>"
      ]
     },
     "metadata": {
      "needs_background": "light"
     },
     "output_type": "display_data"
    }
   ],
   "source": [
    "Y = X\n",
    "Y['Fit'] = model.predict_in_sample()\n",
    "Y.plot()\n",
    "Y"
   ]
  },
  {
   "cell_type": "code",
   "execution_count": null,
   "metadata": {},
   "outputs": [],
   "source": []
  }
 ],
 "metadata": {
  "kernelspec": {
   "display_name": "Python 3",
   "language": "python",
   "name": "python3"
  },
  "language_info": {
   "codemirror_mode": {
    "name": "ipython",
    "version": 3
   },
   "file_extension": ".py",
   "mimetype": "text/x-python",
   "name": "python",
   "nbconvert_exporter": "python",
   "pygments_lexer": "ipython3",
   "version": "3.7.4"
  }
 },
 "nbformat": 4,
 "nbformat_minor": 2
}
