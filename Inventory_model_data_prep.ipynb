{
 "cells": [
  {
   "cell_type": "code",
   "execution_count": 1,
   "id": "95c272cc-f57a-402e-b6cc-844745218ea5",
   "metadata": {},
   "outputs": [],
   "source": [
    "import pandas as pd\n",
    "import numpy as np"
   ]
  },
  {
   "cell_type": "code",
   "execution_count": 2,
   "id": "ee77cdec-d927-4095-bfae-9df6c52801e9",
   "metadata": {},
   "outputs": [],
   "source": [
    "data_folder = \"C:\\\\Users\\\\spars\\\\Documents\\\\Master\\\\JHU\\TML\\\\HomePriceBeastNew\\\\\""
   ]
  },
  {
   "cell_type": "code",
   "execution_count": 3,
   "id": "a335e0e2-4757-4a6f-b1a3-4f216d4dd4b3",
   "metadata": {},
   "outputs": [],
   "source": [
    "merged_home_data_time_series = pd.read_csv(f\"{data_folder}merged_home_data_time_series.csv\", low_memory=True, thousands=',')"
   ]
  },
  {
   "cell_type": "code",
   "execution_count": 4,
   "id": "692ba4cc-5536-43c8-a316-7d6be23c4782",
   "metadata": {},
   "outputs": [
    {
     "data": {
      "text/plain": [
       "Index(['state_code', 'county_name', 'period_begin', 'inventory',\n",
       "       'inventory_lag_1', 'inventory_lag_2', 'inventory_lag_3',\n",
       "       'inventory_lag_4', 'inventory_lag_5', 'inventory_lead_1',\n",
       "       'inventory_lead_2', 'inventory_lead_3', 'median_sale_price',\n",
       "       'median_sale_price_lag_1', 'median_sale_price_lag_2',\n",
       "       'median_sale_price_lag_3', 'median_sale_price_lag_4',\n",
       "       'median_sale_price_lag_5', 'week_num', 'week_num_lag_1',\n",
       "       'week_num_lag_2', 'week_num_lag_3', 'week_num_lag_4', 'week_num_lag_5',\n",
       "       'month', 'month_lag_1', 'month_lag_2', 'month_lag_3', 'month_lag_4',\n",
       "       'month_lag_5', 'week_offset', 'week_offset_lag_1', 'week_offset_lag_2',\n",
       "       'week_offset_lag_3', 'week_offset_lag_4', 'week_offset_lag_5',\n",
       "       'R_INTERNATIONAL_MIG_2019', 'Unemployment_rate_2020',\n",
       "       'PCT_COLL_4_2015_19', 'PCT_COLL_1TO3_2000', 'PCT_HSD_Only_2000',\n",
       "       'R_NET_MIG_2019', 'Med_HH_Income_Percent_of_State_Total_2019',\n",
       "       'GQ_ESTIMATES_2019', 'N_POP_CHG_2019', 'INTERNATIONAL_MIG_2019',\n",
       "       'NET_MIG_2019', 'HSD_Only_2000', 'DOMESTIC_MIG_2019', 'RESIDUAL_2019',\n",
       "       'Deaths_2019', 'COLL_4_2000', 'POP_ESTIMATE_2019', 'LT_HSD_2015_19',\n",
       "       'COLL_1TO3_2000', 'Unemployed_2020', 'NATURAL_INC_2019',\n",
       "       'GQ_ESTIMATES_BASE_2010', 'Employed_2020', 'LT_HSD_2000',\n",
       "       'COLL_4_2015_19', 'HSD_Only_2015_19', 'COLL_1TO3_2015_19',\n",
       "       'Civilian_labor_force_2020', 'CENSUS_2010_POP', 'PCT_LT_HSD_2000',\n",
       "       'R_birth_2019', 'PCT_COLL_1TO3_2015_19', 'PCT_COLL_4_2000',\n",
       "       'Economic_typology_2015', 'R_death_2019'],\n",
       "      dtype='object')"
      ]
     },
     "execution_count": 4,
     "metadata": {},
     "output_type": "execute_result"
    }
   ],
   "source": [
    "merged_home_data_time_series.columns"
   ]
  },
  {
   "cell_type": "code",
   "execution_count": 5,
   "id": "07ac1921-fa2c-470e-a1ba-878660cbf10a",
   "metadata": {},
   "outputs": [],
   "source": [
    "def transform_types_and_chunk(data, non_float_cols, date_col, dummy_cols):\n",
    "    for x in data.columns:\n",
    "        if x not in non_float_cols:\n",
    "            data[x] = pd.to_numeric(data[x])\n",
    "\n",
    "    data = pd.get_dummies(data, columns = dummy_cols)\n",
    "\n",
    "    data[date_col] = pd.to_datetime(data[date_col])\n",
    "    post_covid_frame = data[data[date_col] >= \"2020-03-01\"]\n",
    "    train_frame = data[data[date_col] < \"2019-12-01\"]\n",
    "    test_frame = data[((data[date_col] >= \"2019-12-01\") & (data[date_col] < \"2020-03-01\"))]\n",
    "    \n",
    "    return train_frame, test_frame, post_covid_frame"
   ]
  },
  {
   "cell_type": "code",
   "execution_count": 6,
   "id": "fa4a3de9-f543-4066-b0be-62cd49ad216a",
   "metadata": {},
   "outputs": [],
   "source": [
    "non_float_cols = [\"state_code\", \"county_name\", \"period_begin\", \"state_code_dummy\"]\n",
    "\n",
    "#convert these columns to encoding. \n",
    "dummy_cols = [\"state_code_dummy\"]\n",
    "\n",
    "#Keep original state code data after dummifyto\n",
    "\n",
    "merged_home_data_time_series['state_code_dummy'] = merged_home_data_time_series['state_code']\n",
    "\n",
    "train_frame, test_frame, post_covid_frame = transform_types_and_chunk(merged_home_data_time_series,\n",
    "                                 non_float_cols,\n",
    "                                 \"period_begin\",\n",
    "                                 dummy_cols)"
   ]
  },
  {
   "cell_type": "code",
   "execution_count": 7,
   "id": "857c3e24-09c9-4a75-b122-f403fbf130bf",
   "metadata": {},
   "outputs": [
    {
     "data": {
      "text/plain": [
       "Index(['state_code', 'county_name', 'period_begin', 'inventory',\n",
       "       'inventory_lag_1', 'inventory_lag_2', 'inventory_lag_3',\n",
       "       'inventory_lag_4', 'inventory_lag_5', 'inventory_lead_1',\n",
       "       ...\n",
       "       'state_code_dummy_RI', 'state_code_dummy_SC', 'state_code_dummy_TN',\n",
       "       'state_code_dummy_TX', 'state_code_dummy_UT', 'state_code_dummy_VA',\n",
       "       'state_code_dummy_VT', 'state_code_dummy_WA', 'state_code_dummy_WI',\n",
       "       'state_code_dummy_WV'],\n",
       "      dtype='object', length=118)"
      ]
     },
     "execution_count": 7,
     "metadata": {},
     "output_type": "execute_result"
    }
   ],
   "source": [
    "train_frame.columns"
   ]
  },
  {
   "cell_type": "code",
   "execution_count": 8,
   "id": "cf510c06-3d4f-441c-8ed6-2a2c6aea643b",
   "metadata": {},
   "outputs": [],
   "source": [
    "post_covid_frame[['state_code', 'county_name', 'period_begin', 'inventory']].to_csv(f\"{data_folder}post_covid_subset_frame.csv\")"
   ]
  },
  {
   "cell_type": "code",
   "execution_count": 9,
   "id": "6500e74c-b73b-405c-bfb9-14a1add8c879",
   "metadata": {},
   "outputs": [],
   "source": [
    "test_frame[['state_code', 'county_name', 'period_begin', 'inventory']].to_csv(f\"{data_folder}test_subset_frame.csv\")"
   ]
  },
  {
   "cell_type": "code",
   "execution_count": 10,
   "id": "74798a2e-45ce-4ca5-a94e-af7b8526f842",
   "metadata": {},
   "outputs": [],
   "source": [
    "def convert_frame_to_numpy(df, remove_cols, target_prefix, related_prefixes, J,H):\n",
    "    \n",
    "    #assemble lag variables.\n",
    "    y_lag_cols = [f'{target_prefix}_lag_{j}' for j in range(J,0,-1)]\n",
    "    y_lead_cols = [target_prefix] + [f'{target_prefix}_lead_{h}' for h in range(1,H+1,1)]    \n",
    "    \n",
    "    flat_drop = []\n",
    "    x_rel_cols = []\n",
    "    for related_prefix in related_prefixes:\n",
    "        curr_prefix = [f'{related_prefix}_lag_{j}' for j in range(J,0,-1)]\n",
    "        x_rel_cols.append(curr_prefix)\n",
    "        flat_drop = flat_drop + curr_prefix\n",
    "        \n",
    "    other_cols = [x for x in df.columns if x not in y_lag_cols\\\n",
    "                  + y_lead_cols + flat_drop + remove_cols + related_prefixes]\n",
    "    \n",
    "    print(f\"Length of other columns = {len(other_cols)}\")\n",
    "    print(other_cols)\n",
    "    \n",
    "    def get_label_row(row):\n",
    "        label = np.array([row[remove_cols].values])\n",
    "        \n",
    "        return label\n",
    "    \n",
    "    def get_xvec_row(row):\n",
    "        x = np.array([row[y_lag_cols].values])\n",
    "        \n",
    "        #Removing sale price in inventory models \n",
    "        for x_rel in x_rel_cols:\n",
    "            x = np.append(x,[row[x_rel].values],axis=0)\n",
    "        \n",
    "        stat_val = row[other_cols].values\n",
    "        stat_val = np.tile(stat_val,[J,1])\n",
    "        stat_val = np.transpose(stat_val)\n",
    "        x = np.append(x,stat_val,axis=0)\n",
    "        \n",
    "        return x\n",
    "    \n",
    "    def get_yvec_row(row):\n",
    "        y = np.array([row[y_lead_cols].values])\n",
    "        \n",
    "        return y\n",
    "            \n",
    "    X = np.array(df.apply(get_xvec_row, axis = 1))\n",
    "    y = np.array(df.apply(get_yvec_row, axis = 1))\n",
    "    label = np.array(df.apply(get_label_row, axis = 1))\n",
    "    \n",
    "    return X,y, label\n",
    "    \n",
    "remove_cols = [\"county_name\", \"period_begin\", \"state_code\"]\n",
    "target_prefix = 'inventory'\n",
    "related_prefix = ['week_num','month','week_offset']\n",
    "J=5\n",
    "H=3"
   ]
  },
  {
   "cell_type": "code",
   "execution_count": 11,
   "id": "e0b6de84-1534-41c5-a213-eb07242c5923",
   "metadata": {},
   "outputs": [
    {
     "name": "stdout",
     "output_type": "stream",
     "text": [
      "Length of other columns = 88\n",
      "['median_sale_price', 'median_sale_price_lag_1', 'median_sale_price_lag_2', 'median_sale_price_lag_3', 'median_sale_price_lag_4', 'median_sale_price_lag_5', 'R_INTERNATIONAL_MIG_2019', 'Unemployment_rate_2020', 'PCT_COLL_4_2015_19', 'PCT_COLL_1TO3_2000', 'PCT_HSD_Only_2000', 'R_NET_MIG_2019', 'Med_HH_Income_Percent_of_State_Total_2019', 'GQ_ESTIMATES_2019', 'N_POP_CHG_2019', 'INTERNATIONAL_MIG_2019', 'NET_MIG_2019', 'HSD_Only_2000', 'DOMESTIC_MIG_2019', 'RESIDUAL_2019', 'Deaths_2019', 'COLL_4_2000', 'POP_ESTIMATE_2019', 'LT_HSD_2015_19', 'COLL_1TO3_2000', 'Unemployed_2020', 'NATURAL_INC_2019', 'GQ_ESTIMATES_BASE_2010', 'Employed_2020', 'LT_HSD_2000', 'COLL_4_2015_19', 'HSD_Only_2015_19', 'COLL_1TO3_2015_19', 'Civilian_labor_force_2020', 'CENSUS_2010_POP', 'PCT_LT_HSD_2000', 'R_birth_2019', 'PCT_COLL_1TO3_2015_19', 'PCT_COLL_4_2000', 'Economic_typology_2015', 'R_death_2019', 'state_code_dummy_AK', 'state_code_dummy_AL', 'state_code_dummy_AR', 'state_code_dummy_AZ', 'state_code_dummy_CA', 'state_code_dummy_CO', 'state_code_dummy_CT', 'state_code_dummy_DC', 'state_code_dummy_DE', 'state_code_dummy_FL', 'state_code_dummy_GA', 'state_code_dummy_HI', 'state_code_dummy_IA', 'state_code_dummy_ID', 'state_code_dummy_IL', 'state_code_dummy_IN', 'state_code_dummy_KS', 'state_code_dummy_KY', 'state_code_dummy_LA', 'state_code_dummy_MA', 'state_code_dummy_MD', 'state_code_dummy_ME', 'state_code_dummy_MI', 'state_code_dummy_MN', 'state_code_dummy_MO', 'state_code_dummy_MS', 'state_code_dummy_NC', 'state_code_dummy_NE', 'state_code_dummy_NH', 'state_code_dummy_NJ', 'state_code_dummy_NM', 'state_code_dummy_NV', 'state_code_dummy_NY', 'state_code_dummy_OH', 'state_code_dummy_OK', 'state_code_dummy_OR', 'state_code_dummy_PA', 'state_code_dummy_RI', 'state_code_dummy_SC', 'state_code_dummy_TN', 'state_code_dummy_TX', 'state_code_dummy_UT', 'state_code_dummy_VA', 'state_code_dummy_VT', 'state_code_dummy_WA', 'state_code_dummy_WI', 'state_code_dummy_WV']\n"
     ]
    }
   ],
   "source": [
    "X_train, y_train, train_label = convert_frame_to_numpy(train_frame, \n",
    "                                          remove_cols, \n",
    "                                          target_prefix, \n",
    "                                          related_prefix, \n",
    "                                          J,H)"
   ]
  },
  {
   "cell_type": "code",
   "execution_count": 12,
   "id": "268445cb-7e10-4aec-bf71-8429f20f865c",
   "metadata": {},
   "outputs": [
    {
     "name": "stdout",
     "output_type": "stream",
     "text": [
      "Length of other columns = 88\n",
      "['median_sale_price', 'median_sale_price_lag_1', 'median_sale_price_lag_2', 'median_sale_price_lag_3', 'median_sale_price_lag_4', 'median_sale_price_lag_5', 'R_INTERNATIONAL_MIG_2019', 'Unemployment_rate_2020', 'PCT_COLL_4_2015_19', 'PCT_COLL_1TO3_2000', 'PCT_HSD_Only_2000', 'R_NET_MIG_2019', 'Med_HH_Income_Percent_of_State_Total_2019', 'GQ_ESTIMATES_2019', 'N_POP_CHG_2019', 'INTERNATIONAL_MIG_2019', 'NET_MIG_2019', 'HSD_Only_2000', 'DOMESTIC_MIG_2019', 'RESIDUAL_2019', 'Deaths_2019', 'COLL_4_2000', 'POP_ESTIMATE_2019', 'LT_HSD_2015_19', 'COLL_1TO3_2000', 'Unemployed_2020', 'NATURAL_INC_2019', 'GQ_ESTIMATES_BASE_2010', 'Employed_2020', 'LT_HSD_2000', 'COLL_4_2015_19', 'HSD_Only_2015_19', 'COLL_1TO3_2015_19', 'Civilian_labor_force_2020', 'CENSUS_2010_POP', 'PCT_LT_HSD_2000', 'R_birth_2019', 'PCT_COLL_1TO3_2015_19', 'PCT_COLL_4_2000', 'Economic_typology_2015', 'R_death_2019', 'state_code_dummy_AK', 'state_code_dummy_AL', 'state_code_dummy_AR', 'state_code_dummy_AZ', 'state_code_dummy_CA', 'state_code_dummy_CO', 'state_code_dummy_CT', 'state_code_dummy_DC', 'state_code_dummy_DE', 'state_code_dummy_FL', 'state_code_dummy_GA', 'state_code_dummy_HI', 'state_code_dummy_IA', 'state_code_dummy_ID', 'state_code_dummy_IL', 'state_code_dummy_IN', 'state_code_dummy_KS', 'state_code_dummy_KY', 'state_code_dummy_LA', 'state_code_dummy_MA', 'state_code_dummy_MD', 'state_code_dummy_ME', 'state_code_dummy_MI', 'state_code_dummy_MN', 'state_code_dummy_MO', 'state_code_dummy_MS', 'state_code_dummy_NC', 'state_code_dummy_NE', 'state_code_dummy_NH', 'state_code_dummy_NJ', 'state_code_dummy_NM', 'state_code_dummy_NV', 'state_code_dummy_NY', 'state_code_dummy_OH', 'state_code_dummy_OK', 'state_code_dummy_OR', 'state_code_dummy_PA', 'state_code_dummy_RI', 'state_code_dummy_SC', 'state_code_dummy_TN', 'state_code_dummy_TX', 'state_code_dummy_UT', 'state_code_dummy_VA', 'state_code_dummy_VT', 'state_code_dummy_WA', 'state_code_dummy_WI', 'state_code_dummy_WV']\n"
     ]
    }
   ],
   "source": [
    "X_test, y_test, test_label = convert_frame_to_numpy(test_frame, \n",
    "                                        remove_cols, \n",
    "                                        target_prefix, \n",
    "                                        related_prefix, \n",
    "                                        J,H)"
   ]
  },
  {
   "cell_type": "code",
   "execution_count": 13,
   "id": "6c203baa-ece8-4b5d-b465-aa2c654f3d5e",
   "metadata": {},
   "outputs": [
    {
     "name": "stdout",
     "output_type": "stream",
     "text": [
      "Length of other columns = 88\n",
      "['median_sale_price', 'median_sale_price_lag_1', 'median_sale_price_lag_2', 'median_sale_price_lag_3', 'median_sale_price_lag_4', 'median_sale_price_lag_5', 'R_INTERNATIONAL_MIG_2019', 'Unemployment_rate_2020', 'PCT_COLL_4_2015_19', 'PCT_COLL_1TO3_2000', 'PCT_HSD_Only_2000', 'R_NET_MIG_2019', 'Med_HH_Income_Percent_of_State_Total_2019', 'GQ_ESTIMATES_2019', 'N_POP_CHG_2019', 'INTERNATIONAL_MIG_2019', 'NET_MIG_2019', 'HSD_Only_2000', 'DOMESTIC_MIG_2019', 'RESIDUAL_2019', 'Deaths_2019', 'COLL_4_2000', 'POP_ESTIMATE_2019', 'LT_HSD_2015_19', 'COLL_1TO3_2000', 'Unemployed_2020', 'NATURAL_INC_2019', 'GQ_ESTIMATES_BASE_2010', 'Employed_2020', 'LT_HSD_2000', 'COLL_4_2015_19', 'HSD_Only_2015_19', 'COLL_1TO3_2015_19', 'Civilian_labor_force_2020', 'CENSUS_2010_POP', 'PCT_LT_HSD_2000', 'R_birth_2019', 'PCT_COLL_1TO3_2015_19', 'PCT_COLL_4_2000', 'Economic_typology_2015', 'R_death_2019', 'state_code_dummy_AK', 'state_code_dummy_AL', 'state_code_dummy_AR', 'state_code_dummy_AZ', 'state_code_dummy_CA', 'state_code_dummy_CO', 'state_code_dummy_CT', 'state_code_dummy_DC', 'state_code_dummy_DE', 'state_code_dummy_FL', 'state_code_dummy_GA', 'state_code_dummy_HI', 'state_code_dummy_IA', 'state_code_dummy_ID', 'state_code_dummy_IL', 'state_code_dummy_IN', 'state_code_dummy_KS', 'state_code_dummy_KY', 'state_code_dummy_LA', 'state_code_dummy_MA', 'state_code_dummy_MD', 'state_code_dummy_ME', 'state_code_dummy_MI', 'state_code_dummy_MN', 'state_code_dummy_MO', 'state_code_dummy_MS', 'state_code_dummy_NC', 'state_code_dummy_NE', 'state_code_dummy_NH', 'state_code_dummy_NJ', 'state_code_dummy_NM', 'state_code_dummy_NV', 'state_code_dummy_NY', 'state_code_dummy_OH', 'state_code_dummy_OK', 'state_code_dummy_OR', 'state_code_dummy_PA', 'state_code_dummy_RI', 'state_code_dummy_SC', 'state_code_dummy_TN', 'state_code_dummy_TX', 'state_code_dummy_UT', 'state_code_dummy_VA', 'state_code_dummy_VT', 'state_code_dummy_WA', 'state_code_dummy_WI', 'state_code_dummy_WV']\n"
     ]
    }
   ],
   "source": [
    "X_post_covid, y_post_covid, post_covid_label = convert_frame_to_numpy(post_covid_frame, \n",
    "                                        remove_cols, \n",
    "                                        target_prefix, \n",
    "                                        related_prefix, \n",
    "                                        J,H)"
   ]
  },
  {
   "cell_type": "code",
   "execution_count": 14,
   "id": "4b8dcb7e-bb6f-42e4-91a8-7cad7112c354",
   "metadata": {},
   "outputs": [
    {
     "name": "stdout",
     "output_type": "stream",
     "text": [
      "Stack Range : 92\n"
     ]
    }
   ],
   "source": [
    "stack_range = np.array(X_post_covid[0]).shape[0]\n",
    "print(f\"Stack Range : {stack_range}\")"
   ]
  },
  {
   "cell_type": "code",
   "execution_count": 15,
   "id": "ecf23ce5-7635-41f6-aecc-bfd712da55a1",
   "metadata": {},
   "outputs": [],
   "source": [
    "def chunks(a, size):\n",
    "    arr = iter(a)\n",
    "    for v in arr:\n",
    "        tmp = [ v ]\n",
    "        for i,v in zip( range( size - 1 ), arr ):\n",
    "            tmp.append( v )\n",
    "        yield tmp"
   ]
  },
  {
   "cell_type": "code",
   "execution_count": 16,
   "id": "3cbca175-18d1-4535-a620-e37adbe28815",
   "metadata": {},
   "outputs": [],
   "source": [
    "X_train_stack = list(chunks(np.vstack(X_train), stack_range))\n",
    "X_test_stack = list(chunks(np.vstack(X_test), stack_range))\n",
    "label_train_stack = np.expand_dims(np.vstack(train_label),axis=2)\n",
    "label_test_stack = np.expand_dims(np.vstack(test_label),axis=2)\n",
    "y_train_stack = np.expand_dims(np.vstack(y_train),axis=2)\n",
    "y_test_stack = np.expand_dims(np.vstack(y_test),axis=2)"
   ]
  },
  {
   "cell_type": "code",
   "execution_count": 17,
   "id": "91ea630f-9a68-4cf8-9fbd-04e0d42a3001",
   "metadata": {},
   "outputs": [],
   "source": [
    "X_train_swap = np.array(X_train_stack).swapaxes(0,1).swapaxes(0,2)\n",
    "X_test_swap = np.array(X_test_stack).swapaxes(0,1).swapaxes(0,2)\n",
    "label_train_swap = np.array(label_train_stack).swapaxes(0,1)\n",
    "label_test_swap = np.array(label_test_stack).swapaxes(0,1)\n",
    "y_train_swap = np.array(y_train_stack).swapaxes(0,1)\n",
    "y_test_swap = np.array(y_test_stack).swapaxes(0,1)"
   ]
  },
  {
   "cell_type": "code",
   "execution_count": 18,
   "id": "9d46c3a2-7353-4900-96e3-67aa9f1dc10f",
   "metadata": {},
   "outputs": [],
   "source": [
    "X_post_covid_stack = list(chunks(np.vstack(X_post_covid), stack_range))\n",
    "label_post_covid_stack = np.expand_dims(np.vstack(post_covid_label),axis=2)\n",
    "y_post_covid_stack = np.expand_dims(np.vstack(y_post_covid),axis=2)\n",
    "\n",
    "X_post_covid_swap = np.array(X_post_covid_stack).swapaxes(0,1).swapaxes(0,2)\n",
    "label_post_covid_swap = np.array(label_post_covid_stack).swapaxes(0,1)\n",
    "y_post_covid_swap = np.array(y_post_covid_stack).swapaxes(0,1)"
   ]
  },
  {
   "cell_type": "code",
   "execution_count": 19,
   "id": "ce072e1d-11e5-49ae-8f3d-5c8c0ed7fe45",
   "metadata": {},
   "outputs": [],
   "source": [
    "with open(f\"{data_folder}all_model_data.npy\", 'wb') as f:\n",
    "    np.save(f, X_train_swap.astype(float))\n",
    "    np.save(f, y_train_swap.astype(float))\n",
    "    np.save(f, X_test_swap.astype(float))\n",
    "    np.save(f, y_test_swap.astype(float))"
   ]
  },
  {
   "cell_type": "code",
   "execution_count": 20,
   "id": "07f42ee0-ebe6-4d6d-9b48-147f64e7f943",
   "metadata": {},
   "outputs": [],
   "source": [
    "with open(f\"{data_folder}all_model_labels_mapping.npy\", 'wb') as f:\n",
    "    np.save(f, label_train_swap)\n",
    "    np.save(f, label_test_swap)"
   ]
  },
  {
   "cell_type": "code",
   "execution_count": 21,
   "id": "b3973a98-fa5e-4a24-b4df-dd18b2cf5c19",
   "metadata": {},
   "outputs": [],
   "source": [
    "with open(f\"{data_folder}post_covid_inv_data.npy\", 'wb') as f:\n",
    "    np.save(f, X_post_covid_swap.astype(float))\n",
    "    np.save(f, y_post_covid_swap.astype(float))"
   ]
  },
  {
   "cell_type": "code",
   "execution_count": 22,
   "id": "ad0429ac-18aa-4d86-b245-943049a66842",
   "metadata": {},
   "outputs": [],
   "source": [
    "with open(f\"{data_folder}post_covid_inv_labels_mapping.npy\", 'wb') as f:\n",
    "    np.save(f, label_post_covid_swap)"
   ]
  },
  {
   "cell_type": "code",
   "execution_count": 23,
   "id": "7d5292b9-3e38-46e4-85bb-ce35fa745c2c",
   "metadata": {},
   "outputs": [
    {
     "data": {
      "text/plain": [
       "(5,)"
      ]
     },
     "execution_count": 23,
     "metadata": {},
     "output_type": "execute_result"
    }
   ],
   "source": [
    "X_train_swap[:,0,0].shape"
   ]
  },
  {
   "cell_type": "code",
   "execution_count": 24,
   "id": "27d8a802-947b-48fa-b9f2-5e3f59c4cc00",
   "metadata": {},
   "outputs": [
    {
     "data": {
      "text/plain": [
       "(5, 118263, 92)"
      ]
     },
     "execution_count": 24,
     "metadata": {},
     "output_type": "execute_result"
    }
   ],
   "source": [
    "X_post_covid_swap.shape"
   ]
  }
 ],
 "metadata": {
  "kernelspec": {
   "display_name": "Python 3 (ipykernel)",
   "language": "python",
   "name": "python3"
  },
  "language_info": {
   "codemirror_mode": {
    "name": "ipython",
    "version": 3
   },
   "file_extension": ".py",
   "mimetype": "text/x-python",
   "name": "python",
   "nbconvert_exporter": "python",
   "pygments_lexer": "ipython3",
   "version": "3.7.10"
  }
 },
 "nbformat": 4,
 "nbformat_minor": 5
}
