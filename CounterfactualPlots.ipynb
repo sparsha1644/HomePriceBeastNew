{
 "cells": [
  {
   "cell_type": "code",
   "execution_count": 32,
   "id": "30db4f82-3d72-4f09-a2c4-b1957527ff8a",
   "metadata": {},
   "outputs": [],
   "source": [
    "import numpy as np\n",
    "import random\n",
    "import os, errno\n",
    "import sys\n",
    "from tqdm import trange\n",
    "from copy import deepcopy\n",
    "\n",
    "import torch\n",
    "import torch.nn as nn\n",
    "from torch import optim\n",
    "import torch.nn.functional as F\n",
    "\n",
    "import matplotlib.pyplot as plt\n",
    "\n",
    "import pandas as pd\n",
    "import math"
   ]
  },
  {
   "cell_type": "code",
   "execution_count": 33,
   "id": "d600e7ab-d74c-4a82-b517-f1f261b7691a",
   "metadata": {},
   "outputs": [],
   "source": [
    "data_folder = \"C:\\\\Users\\\\spars\\\\Documents\\\\Master\\\\JHU\\TML\\\\HomePriceBeastNew\\\\\""
   ]
  },
  {
   "cell_type": "code",
   "execution_count": 34,
   "id": "39f08d04-92e8-4d24-b5b3-765907f121e6",
   "metadata": {},
   "outputs": [],
   "source": [
    "with open(f\"{data_folder}all_model_data_sale_model.npy\", 'rb') as f:\n",
    "    # Format of input x: (J, batch_size, num_features(k)), y: (H, batch_size, 1)\n",
    "    X_train = np.load(f, allow_pickle=True)\n",
    "    y_train = np.load(f, allow_pickle=True)\n",
    "    X_test = np.load(f, allow_pickle=True)\n",
    "    y_test = np.load(f, allow_pickle=True)"
   ]
  },
  {
   "cell_type": "code",
   "execution_count": 35,
   "id": "44474d31-1385-436f-8a52-0518de3ea6f1",
   "metadata": {},
   "outputs": [],
   "source": [
    "with open(f\"{data_folder}all_model_labels_mapping_sale_model.npy\", 'rb') as f:\n",
    "    train_label = np.load(f, allow_pickle=True)\n",
    "    test_label = np.load(f, allow_pickle=True)"
   ]
  },
  {
   "cell_type": "code",
   "execution_count": 36,
   "id": "5ab999d4-c6bd-48d5-92e3-389550024a7b",
   "metadata": {},
   "outputs": [
    {
     "data": {
      "text/plain": [
       "array([[[17.75107327],\n",
       "        [17.79772484],\n",
       "        [17.8672546 ],\n",
       "        ...,\n",
       "        [17.4505065 ],\n",
       "        [17.52123619],\n",
       "        [17.47605396]],\n",
       "\n",
       "       [[17.79772484],\n",
       "        [17.8672546 ],\n",
       "        [17.95928883],\n",
       "        ...,\n",
       "        [17.52123619],\n",
       "        [17.47605396],\n",
       "        [17.50542779]],\n",
       "\n",
       "       [[17.8672546 ],\n",
       "        [17.95928883],\n",
       "        [18.02445254],\n",
       "        ...,\n",
       "        [17.47605396],\n",
       "        [17.50542779],\n",
       "        [17.54594862]],\n",
       "\n",
       "       [[17.95928883],\n",
       "        [18.02445254],\n",
       "        [17.95233743],\n",
       "        ...,\n",
       "        [17.50542779],\n",
       "        [17.54594862],\n",
       "        [17.71221463]]])"
      ]
     },
     "execution_count": 36,
     "metadata": {},
     "output_type": "execute_result"
    }
   ],
   "source": [
    "np.nan_to_num(X_test,copy=False)\n",
    "np.nan_to_num(y_test,copy=False)"
   ]
  },
  {
   "cell_type": "code",
   "execution_count": 37,
   "id": "a7d352b0-db85-43d0-85af-9a40dc692aca",
   "metadata": {},
   "outputs": [],
   "source": [
    "class inp_layer_norm(nn.Module):\n",
    "    def __init__(self,input_size):\n",
    "        '''\n",
    "        : param input_size:     the number of features in the input X\n",
    "        '''\n",
    "        \n",
    "        super(inp_layer_norm, self).__init__()\n",
    "        \n",
    "        self.layerNorm = nn.LayerNorm(input_size)\n",
    "        \n",
    "    def forward(self,x_input):\n",
    "        n_input = self.layerNorm(x_input)\n",
    "        \n",
    "        return n_input\n",
    "    \n",
    "class lstm_final_output(nn.Module):\n",
    "    '''Takes the final decoder output and the output a single feature.'''\n",
    "    def __init__(self, input_size, output_size):\n",
    "        '''\n",
    "        : param input_size:     the number of features in the input X\n",
    "        : param output_size:    the number of features in the output Y\n",
    "        '''\n",
    "        \n",
    "        super(lstm_final_output, self).__init__()\n",
    "        self.input_size = input_size\n",
    "        self.output_size = output_size \n",
    "        \n",
    "        self.linear = nn.Linear(input_size, output_size)\n",
    "        \n",
    "    def forward(self, x_input):\n",
    "        \n",
    "        '''        \n",
    "        : param x_input:                    should be 2D (batch_size, input_size)\n",
    "        : param encoder_hidden_states:      hidden states\n",
    "        : return output, hidden:            output gives all the hidden states in the sequence;\n",
    "        :                                   hidden gives the hidden state and cell state for the last\n",
    "        :                                   element in the sequence \n",
    " \n",
    "        '''\n",
    "        output = self.linear(x_input.squeeze(0))     \n",
    "        \n",
    "        return output\n",
    "\n",
    "    \n",
    "class lstm_encoder(nn.Module):\n",
    "    ''' Encodes time-series sequence '''\n",
    "\n",
    "    def __init__(self, input_size, hidden_size, dropout = 0.0, num_layers = 1):\n",
    "        \n",
    "        '''\n",
    "        : param input_size:     the number of features in the input X\n",
    "        : param hidden_size:    the number of features in the hidden state h\n",
    "        : param num_layers:     number of recurrent layers (i.e., 2 means there are\n",
    "        :                       2 stacked LSTMs)\n",
    "        '''\n",
    "        \n",
    "        super(lstm_encoder, self).__init__()\n",
    "        self.input_size = input_size\n",
    "        self.hidden_size = hidden_size \n",
    "        self.num_layers = num_layers\n",
    "       \n",
    "        # define LSTM layer\n",
    "        self.lstm = nn.GRU(input_size = input_size, hidden_size = hidden_size, dropout=dropout,\n",
    "                            num_layers = num_layers)\n",
    "        \n",
    "        \n",
    "    def forward(self, x_input):\n",
    "        \n",
    "        '''\n",
    "        : param x_input:               input of shape (seq_len, # in batch, input_size)\n",
    "        : return lstm_out, hidden:     lstm_out gives all the hidden states in the sequence;\n",
    "        :                              hidden gives the hidden state and cell state for the last\n",
    "        :                              element in the sequence \n",
    "        '''\n",
    "\n",
    "        lstm_out, self.hidden = self.lstm(x_input.view(x_input.shape[0], x_input.shape[1], self.input_size))\n",
    "        \n",
    "        return lstm_out, self.hidden     \n",
    "    \n",
    "    def init_hidden(self, batch_size):\n",
    "        \n",
    "        '''\n",
    "        initialize hidden state\n",
    "        : param batch_size:    x_input.shape[1]\n",
    "        : return:              zeroed hidden state and cell state \n",
    "        '''\n",
    "        \n",
    "        return (torch.zeros(self.num_layers, batch_size, self.hidden_size),\n",
    "                torch.zeros(self.num_layers, batch_size, self.hidden_size))\n",
    "\n",
    "\n",
    "class lstm_decoder(nn.Module):\n",
    "    ''' Decodes hidden state output by encoder '''\n",
    "    \n",
    "    def __init__(self, input_size, hidden_size, dropout=0.0, num_layers = 1):\n",
    "\n",
    "        '''\n",
    "        : param input_size:     the number of features in the input X\n",
    "        : param hidden_size:    the number of features in the hidden state h\n",
    "        : param num_layers:     number of recurrent layers (i.e., 2 means there are\n",
    "        :                       2 stacked LSTMs)\n",
    "        '''\n",
    "        \n",
    "        super(lstm_decoder, self).__init__()\n",
    "        self.input_size = input_size\n",
    "        self.hidden_size = hidden_size\n",
    "        self.num_layers = num_layers\n",
    "\n",
    "        self.lstm = nn.GRU(input_size = input_size, hidden_size = hidden_size, dropout = dropout,\n",
    "                            num_layers = num_layers)\n",
    "        self.linear = nn.Linear(hidden_size, input_size)           \n",
    "\n",
    "    def forward(self, x_input, encoder_hidden_states):\n",
    "        \n",
    "        '''        \n",
    "        : param x_input:                    should be 2D (batch_size, input_size)\n",
    "        : param encoder_hidden_states:      hidden states\n",
    "        : return output, hidden:            output gives all the hidden states in the sequence;\n",
    "        :                                   hidden gives the hidden state and cell state for the last\n",
    "        :                                   element in the sequence \n",
    " \n",
    "        '''\n",
    "        lstm_out, self.hidden = self.lstm(x_input.unsqueeze(0), encoder_hidden_states)\n",
    "        output = self.linear(lstm_out.squeeze(0))     \n",
    "        \n",
    "        return output, self.hidden\n",
    "\n",
    "class lstm_seq2seq(nn.Module):\n",
    "    ''' train LSTM encoder-decoder and make predictions '''\n",
    "    \n",
    "    def __init__(self, input_size, hidden_size, output_size, dropout = 0.0, num_layers=1):\n",
    "\n",
    "        '''\n",
    "        : param input_size:     the number of expected features in the input X\n",
    "        : param hidden_size:    the number of features in the hidden state h\n",
    "        : param output_size:    the number of features in the output Y\n",
    "        '''\n",
    "\n",
    "        super(lstm_seq2seq, self).__init__()\n",
    "\n",
    "        self.input_size = input_size\n",
    "        self.hidden_size = hidden_size\n",
    "        self.output_size = output_size\n",
    "        \n",
    "        self.layer_norm = inp_layer_norm(input_size = input_size)\n",
    "        self.encoder = lstm_encoder(input_size = input_size, hidden_size = hidden_size, dropout=dropout, num_layers=num_layers)\n",
    "        self.decoder = lstm_decoder(input_size = input_size, hidden_size = hidden_size, dropout=dropout, num_layers=num_layers)\n",
    "        self.outputter = lstm_final_output(input_size = input_size, output_size = output_size)\n",
    "\n",
    "    def train_model(self, input_tensor, target_tensor, n_epochs, target_len, batch_size, learning_rate = 0.01):\n",
    "        \n",
    "        '''\n",
    "        train lstm encoder-decoder\n",
    "        \n",
    "        : param input_tensor:              input data with shape (seq_len, # in batch, number features); PyTorch tensor    \n",
    "        : param target_tensor:             target data with shape (seq_len, # in batch, number features); PyTorch tensor\n",
    "        : param n_epochs:                  number of epochs \n",
    "        : param target_len:                number of values to predict \n",
    "        : param batch_size:                number of samples per gradient update\n",
    "        : param learning_rate:             float >= 0; learning rate\n",
    "        : return losses:                   array of loss function for each epoch\n",
    "        '''\n",
    "        \n",
    "        # initialize array of losses \n",
    "        losses = np.full(n_epochs, np.nan)\n",
    "        losses_per_horizon = np.full((n_epochs, target_len), np.nan)\n",
    "\n",
    "        optimizer = optim.Adam(self.parameters(), lr = learning_rate)\n",
    "        criterion = nn.L1Loss()\n",
    "\n",
    "        # calculate number of batch iterations\n",
    "        n_batches = int(input_tensor.shape[1] / batch_size)\n",
    "\n",
    "        with trange(n_epochs) as tr:\n",
    "            for it in tr:\n",
    "                \n",
    "                batch_loss = 0.\n",
    "                batch_loss_tf = 0.\n",
    "                batch_loss_no_tf = 0.\n",
    "                num_tf = 0\n",
    "                num_no_tf = 0\n",
    "\n",
    "                for b in range(n_batches):\n",
    "                    # select data \n",
    "                    input_batch = input_tensor[:, b: b + batch_size, :]\n",
    "                    target_batch = target_tensor[:, b: b + batch_size, :]\n",
    "\n",
    "                    # outputs tensor\n",
    "                    outputs = torch.zeros(target_len, batch_size, target_batch.shape[2]).cuda()\n",
    "\n",
    "                    # initialize hidden state\n",
    "                    encoder_hidden = self.encoder.init_hidden(batch_size)\n",
    "\n",
    "                    # zero the gradient\n",
    "                    optimizer.zero_grad()\n",
    "                    \n",
    "                    #Layer normalization\n",
    "                    input_batch = self.layer_norm(input_batch)\n",
    "\n",
    "                    # encoder outputs\n",
    "                    encoder_output, encoder_hidden = self.encoder(input_batch)\n",
    "\n",
    "                    # decoder with teacher forcing\n",
    "                    decoder_input = input_batch[-1, :, :]   # shape: (batch_size, input_size)\n",
    "                    decoder_hidden = encoder_hidden\n",
    "\n",
    "                    # predict recursively\n",
    "                    for t in range(target_len): \n",
    "                        decoder_output, decoder_hidden = self.decoder(decoder_input, decoder_hidden)\n",
    "                        outputs[t] = self.outputter(decoder_output)\n",
    "                        decoder_input = decoder_output\n",
    "\n",
    "                    # compute the loss \n",
    "                    loss = criterion(outputs, target_batch)\n",
    "                    loss_per_horizon = np.full(target_len, np.nan)\n",
    "                    for t in range(target_len): \n",
    "                        loss_per_horizon[t] = criterion(outputs[t], target_batch[t])\n",
    "                    batch_loss += loss.item()\n",
    "                    \n",
    "                    # backpropagation\n",
    "                    loss.backward()\n",
    "                    optimizer.step()\n",
    "\n",
    "                # loss for epoch \n",
    "                batch_loss /= n_batches \n",
    "                losses[it] = batch_loss\n",
    "                for t in range(target_len):\n",
    "                    losses_per_horizon[it][t] = loss_per_horizon[t]\n",
    "                # progress bar \n",
    "                tr.set_postfix(loss=\"{0:.3f}\".format(batch_loss))\n",
    "                    \n",
    "        return losses, losses_per_horizon\n",
    "\n",
    "    def predict(self, input_tensor, target_len):\n",
    "        \n",
    "        '''\n",
    "        : param input_tensor:      input data (seq_len, input_size); PyTorch tensor \n",
    "        : param target_len:        number of target values to predict \n",
    "        : return np_outputs:       np.array containing predicted values; prediction done recursively \n",
    "        '''\n",
    "\n",
    "        # encode input_tensor\n",
    "        input_tensor = input_tensor.unsqueeze(1)     # add in batch size of 1\n",
    "        encoder_output, encoder_hidden = self.encoder(input_tensor)\n",
    "\n",
    "        # initialize tensor for predictions\n",
    "        outputs = torch.zeros(target_len, self.output_size).cuda()\n",
    "\n",
    "        # decode input_tensor\n",
    "        decoder_input = input_tensor[-1, :, :]\n",
    "        decoder_hidden = encoder_hidden\n",
    "        \n",
    "        for t in range(target_len):\n",
    "            decoder_output, decoder_hidden = self.decoder(decoder_input, decoder_hidden)\n",
    "            outputs[t] = self.outputter(decoder_output)\n",
    "            decoder_input = decoder_output\n",
    "            \n",
    "        np_outputs = outputs.cpu().detach().numpy()\n",
    "        \n",
    "        return np_outputs"
   ]
  },
  {
   "cell_type": "code",
   "execution_count": 38,
   "id": "3d31f52f-d2a6-4ad1-821b-3c2a6cecb6ba",
   "metadata": {},
   "outputs": [],
   "source": [
    "with open(f\"{data_folder}post_covid_counterfactual_swap.npy\", 'rb') as f:\n",
    "    X_post_covid_counterfactual_swap = np.load(f, allow_pickle=True)\n",
    "    y_post_covid_expected_stack = np.load(f, allow_pickle=True)\n",
    "    \n",
    "with open(f\"{data_folder}post_covid_label_counterfactual_swap.npy\", 'rb') as f:\n",
    "    post_covid_label_counterfactual_swap = np.load(f, allow_pickle=True)\n",
    "    "
   ]
  },
  {
   "cell_type": "code",
   "execution_count": 39,
   "id": "ec168244-3bbb-4156-926c-856d0d9fb1f1",
   "metadata": {},
   "outputs": [],
   "source": [
    "def get_counterfactual_sale(X_post_covid, post_covid_label, lstm_model, ow = 1):\n",
    "    labels_county = post_covid_label[0,:,0]\n",
    "    labels_period = post_covid_label[1,:,0]\n",
    "    labels_state = post_covid_label[2,:,0]\n",
    "    labels_fips = [c + ',' + s for c,s in zip(list(labels_county), list(labels_state))]\n",
    "    labels_fips_unique = np.unique(labels_fips)\n",
    "\n",
    "    column_names = [\"state_code\", \"county_name\", \"period_begin\", 'predicted_median_sale_price']\n",
    "    \n",
    "    counterfactual_df = pd.DataFrame()\n",
    "    count = 0 \n",
    "    for fips in labels_fips_unique:\n",
    "        count = count + 1\n",
    "    \n",
    "#         print(f\"fips : {fips}\")\n",
    "        indices = [i for i, x in enumerate(labels_fips) if x == fips]\n",
    "\n",
    "        periods = labels_period[indices]\n",
    "        len_periods = len(periods)\n",
    "#         print(len_periods)\n",
    "        start_period_index = min(indices)\n",
    "        \n",
    "        #check why all values end up being same after a time period. \n",
    "        pred_res = []\n",
    "        for ii in range(len_periods):\n",
    "            \n",
    "#             print(X_post_covid[:,start_period_index+ii,0])\n",
    "#             print(X_post_covid[:,start_period_index+ii,1])\n",
    "#             print(X_post_covid[:,start_period_index+ii,2])\n",
    "#             print(X_post_covid[:,start_period_index+ii,3])\n",
    "#             print(X_post_covid[:,start_period_index+ii,4])\n",
    "            \n",
    "            y_res = lstm_model.predict(torch.from_numpy(X_post_covid[:,start_period_index+ii,:]).type(torch.Tensor).cuda(), target_len = ow)\n",
    "#             print(f\"y_res[0][0] : {y_res[0][0]}\")\n",
    "            prev_sale = list(X_post_covid[:,start_period_index+ii,0])\n",
    "            del prev_sale[0]\n",
    "            prev_sale.append(y_res[0][0])\n",
    "            \n",
    "            pred_res.append(y_res[0][0])\n",
    "\n",
    "            if ii != len_periods - 1:\n",
    "                X_post_covid[:,start_period_index+ii+1,0] = np.array(prev_sale)\n",
    "            \n",
    "        df2 = pd.DataFrame()\n",
    "        df2['predicted_median_sale_price'] = pred_res\n",
    "        df2['period_begin'] = labels_period[start_period_index: start_period_index+len_periods]\n",
    "        df2['state_code'] = labels_state[start_period_index]\n",
    "        df2['county_name'] = labels_county[start_period_index]\n",
    "        \n",
    "        counterfactual_df = counterfactual_df.append(df2, ignore_index = True)\n",
    "#         if count == 3:\n",
    "#             break\n",
    "    return counterfactual_df"
   ]
  },
  {
   "cell_type": "code",
   "execution_count": 40,
   "id": "54b4af35-7438-41cf-9594-02194a7415b9",
   "metadata": {},
   "outputs": [],
   "source": [
    "post_covid_frame = pd.read_csv(f\"{data_folder}post_covid_frame_df_sale_model.csv\")\n",
    "test_frame = pd.read_csv(f\"{data_folder}test_frame_df_sale_model.csv\")"
   ]
  },
  {
   "cell_type": "code",
   "execution_count": 41,
   "id": "5fbcd583-3ffc-4d5f-b0ce-615e7f1ac5b6",
   "metadata": {},
   "outputs": [
    {
     "data": {
      "text/plain": [
       "<All keys matched successfully>"
      ]
     },
     "execution_count": 41,
     "metadata": {},
     "output_type": "execute_result"
    }
   ],
   "source": [
    "best_median_model = lstm_seq2seq(input_size = X_post_covid_counterfactual_swap.shape[2], hidden_size = 30, dropout = 0.0,\n",
    "                     output_size = 1, num_layers=2).cuda()\n",
    "best_median_model.load_state_dict(torch.load('./sale_model_new_gru_log.pth'))"
   ]
  },
  {
   "cell_type": "code",
   "execution_count": 42,
   "id": "d334b88d-d152-4fc7-bae2-c100767f3ba3",
   "metadata": {},
   "outputs": [],
   "source": [
    "counterfactual_df = get_counterfactual_sale(X_post_covid_counterfactual_swap.astype(float), post_covid_label_counterfactual_swap, best_median_model)"
   ]
  },
  {
   "cell_type": "code",
   "execution_count": 43,
   "id": "314a24a1-a82e-492e-ac60-e21b0e8ffc62",
   "metadata": {},
   "outputs": [],
   "source": [
    "post_covid_expected_df_sale = post_covid_frame[['state_code', 'county_name', 'period_begin', 'median_sale_price']]\n",
    "test_expected_df_sale = test_frame[['state_code', 'county_name', 'period_begin', 'median_sale_price']]"
   ]
  },
  {
   "cell_type": "code",
   "execution_count": 59,
   "id": "9409f806-eaad-47dc-8f6c-4b6f1739f68e",
   "metadata": {},
   "outputs": [],
   "source": [
    "counterfactual_df.to_csv(f\"{data_folder}post_covid_predicted_df_sale.csv\")\n",
    "post_covid_expected_df_sale.to_csv(f\"{data_folder}post_covid_expected_df_sale.csv\")"
   ]
  },
  {
   "cell_type": "code",
   "execution_count": 44,
   "id": "124e9b08-b153-456b-8c33-a4a203c7b286",
   "metadata": {},
   "outputs": [],
   "source": [
    "counterfactual_df_test = get_counterfactual_sale(X_test.astype(float), test_label, best_median_model)"
   ]
  },
  {
   "cell_type": "code",
   "execution_count": 47,
   "id": "6f207a1d-6e86-4f3b-b93b-4242979fc5a5",
   "metadata": {},
   "outputs": [
    {
     "name": "stderr",
     "output_type": "stream",
     "text": [
      "C:\\ProgramData\\Anaconda3\\envs\\TML\\lib\\site-packages\\ipykernel_launcher.py:2: SettingWithCopyWarning: \n",
      "A value is trying to be set on a copy of a slice from a DataFrame.\n",
      "Try using .loc[row_indexer,col_indexer] = value instead\n",
      "\n",
      "See the caveats in the documentation: https://pandas.pydata.org/pandas-docs/stable/user_guide/indexing.html#returning-a-view-versus-a-copy\n",
      "  \n"
     ]
    }
   ],
   "source": [
    "counterfactual_df_test['predicted_median_sale_price'] = np.power(2, counterfactual_df_test['predicted_median_sale_price'])\n",
    "test_expected_df_sale['median_sale_price'] =  np.power(2, test_expected_df_sale['median_sale_price'])"
   ]
  },
  {
   "cell_type": "code",
   "execution_count": 50,
   "id": "8760f044-2158-43b4-899f-2ff0b2163f1e",
   "metadata": {},
   "outputs": [
    {
     "name": "stderr",
     "output_type": "stream",
     "text": [
      "C:\\ProgramData\\Anaconda3\\envs\\TML\\lib\\site-packages\\ipykernel_launcher.py:2: SettingWithCopyWarning: \n",
      "A value is trying to be set on a copy of a slice from a DataFrame.\n",
      "Try using .loc[row_indexer,col_indexer] = value instead\n",
      "\n",
      "See the caveats in the documentation: https://pandas.pydata.org/pandas-docs/stable/user_guide/indexing.html#returning-a-view-versus-a-copy\n",
      "  \n"
     ]
    }
   ],
   "source": [
    "counterfactual_df['predicted_median_sale_price'] = np.power(2, counterfactual_df['predicted_median_sale_price'])\n",
    "post_covid_expected_df_sale['median_sale_price'] =  np.power(2, post_covid_expected_df_sale['median_sale_price'])"
   ]
  },
  {
   "cell_type": "code",
   "execution_count": 58,
   "id": "ee83fc4c-0a76-4e82-8d38-a93f37961f34",
   "metadata": {},
   "outputs": [],
   "source": [
    "counterfactual_df_test.to_csv(f\"{data_folder}test_predicted_df_sale.csv\")\n",
    "test_expected_df_sale.to_csv(f\"{data_folder}test_expected_df_sale.csv\")"
   ]
  },
  {
   "cell_type": "code",
   "execution_count": 51,
   "id": "db23a3f7-0973-4616-9a67-a403fd21fafa",
   "metadata": {},
   "outputs": [],
   "source": [
    "def plot_mape_dist(predicted_df, expected_df, pred_key, exp_key):\n",
    "    result = pd.merge(predicted_df, expected_df, on=['county_name', 'state_code', 'period_begin'])\n",
    "    result['MAPE'] = 100*(abs(result[exp_key] - result[pred_key]) / (abs(result[exp_key])+0.1))\n",
    "    county_mape = result.groupby(['county_name', 'state_code']).agg({'MAPE':'mean'})\n",
    "    county_mape = county_mape.reset_index()\n",
    "    county_mape['MAPE'] = county_mape['MAPE'].apply(lambda x: x[0] if type(x) == list else x)\n",
    "    ax = county_mape['MAPE'].hist(bins=30, range=(0,40))\n",
    "    \n",
    "    ax.set_xlabel(\"MAPE\")\n",
    "    ax.set_ylabel(\"Frequency\")\n",
    "    ax.set_title(\"MAPE Histogram on Test data for Median Sale Price\")\n",
    "    return county_mape"
   ]
  },
  {
   "cell_type": "code",
   "execution_count": 66,
   "id": "929fb06f-9a1d-4317-982d-c918af400475",
   "metadata": {},
   "outputs": [],
   "source": [
    "def plot_mape_dist_over_all(predicted_df, expected_df, pred_key, exp_key):\n",
    "    result = pd.merge(predicted_df, expected_df, on=['county_name', 'state_code', 'period_begin'])\n",
    "    result['MAPE'] = 100*(abs(result[exp_key] - result[pred_key]) / (abs(result[exp_key])+0.1))\n",
    "    county_mape_over_all = result.agg({'MAPE':'mean'})\n",
    "    county_mape_over_all = county_mape_over_all.reset_index()\n",
    "    return county_mape_over_all"
   ]
  },
  {
   "cell_type": "code",
   "execution_count": 67,
   "id": "587a1049-b386-446f-b303-c5c8a017e364",
   "metadata": {},
   "outputs": [],
   "source": [
    "test_county_mape = plot_mape_dist_over_all(counterfactual_df_test, test_expected_df_sale, \"predicted_median_sale_price\", \"median_sale_price\")"
   ]
  },
  {
   "cell_type": "code",
   "execution_count": 68,
   "id": "33363691-e96e-4b0c-8603-f68b5a2e1ff4",
   "metadata": {},
   "outputs": [
    {
     "data": {
      "text/html": [
       "<div>\n",
       "<style scoped>\n",
       "    .dataframe tbody tr th:only-of-type {\n",
       "        vertical-align: middle;\n",
       "    }\n",
       "\n",
       "    .dataframe tbody tr th {\n",
       "        vertical-align: top;\n",
       "    }\n",
       "\n",
       "    .dataframe thead th {\n",
       "        text-align: right;\n",
       "    }\n",
       "</style>\n",
       "<table border=\"1\" class=\"dataframe\">\n",
       "  <thead>\n",
       "    <tr style=\"text-align: right;\">\n",
       "      <th></th>\n",
       "      <th>index</th>\n",
       "      <th>0</th>\n",
       "    </tr>\n",
       "  </thead>\n",
       "  <tbody>\n",
       "    <tr>\n",
       "      <th>0</th>\n",
       "      <td>MAPE</td>\n",
       "      <td>62.545678</td>\n",
       "    </tr>\n",
       "  </tbody>\n",
       "</table>\n",
       "</div>"
      ],
      "text/plain": [
       "  index          0\n",
       "0  MAPE  62.545678"
      ]
     },
     "execution_count": 68,
     "metadata": {},
     "output_type": "execute_result"
    }
   ],
   "source": [
    "test_county_mape"
   ]
  },
  {
   "cell_type": "code",
   "execution_count": 52,
   "id": "e3262764-117b-41ff-b051-4c7f35335a83",
   "metadata": {},
   "outputs": [
    {
     "name": "stderr",
     "output_type": "stream",
     "text": [
      "C:\\ProgramData\\Anaconda3\\envs\\TML\\lib\\site-packages\\ipykernel_launcher.py:2: SettingWithCopyWarning: \n",
      "A value is trying to be set on a copy of a slice from a DataFrame.\n",
      "Try using .loc[row_indexer,col_indexer] = value instead\n",
      "\n",
      "See the caveats in the documentation: https://pandas.pydata.org/pandas-docs/stable/user_guide/indexing.html#returning-a-view-versus-a-copy\n",
      "  \n"
     ]
    }
   ],
   "source": [
    "counterfactual_df_test['period_begin'] = pd.to_datetime(counterfactual_df_test['period_begin'])\n",
    "test_expected_df_sale['period_begin'] = pd.to_datetime(test_expected_df_sale['period_begin'])"
   ]
  },
  {
   "cell_type": "code",
   "execution_count": 53,
   "id": "6e6d353c-2c1d-479d-b4c5-43f05b1ea27e",
   "metadata": {},
   "outputs": [
    {
     "data": {
      "image/png": "[encoded data removed]",
      "text/plain": [
       "<Figure size 432x288 with 1 Axes>"
      ]
     },
     "metadata": {
      "needs_background": "light"
     },
     "output_type": "display_data"
    }
   ],
   "source": [
    "test_county_mape = plot_mape_dist(counterfactual_df_test, test_expected_df_sale, \"predicted_median_sale_price\", \"median_sale_price\")"
   ]
  },
  {
   "cell_type": "code",
   "execution_count": 54,
   "id": "6c88159b-6669-4080-a784-bca450d502b1",
   "metadata": {},
   "outputs": [
    {
     "name": "stderr",
     "output_type": "stream",
     "text": [
      "C:\\ProgramData\\Anaconda3\\envs\\TML\\lib\\site-packages\\ipykernel_launcher.py:2: SettingWithCopyWarning: \n",
      "A value is trying to be set on a copy of a slice from a DataFrame.\n",
      "Try using .loc[row_indexer,col_indexer] = value instead\n",
      "\n",
      "See the caveats in the documentation: https://pandas.pydata.org/pandas-docs/stable/user_guide/indexing.html#returning-a-view-versus-a-copy\n",
      "  \n"
     ]
    }
   ],
   "source": [
    "counterfactual_df['period_begin'] = pd.to_datetime(counterfactual_df['period_begin'])\n",
    "post_covid_expected_df_sale['period_begin'] = pd.to_datetime(post_covid_expected_df_sale['period_begin'])"
   ]
  },
  {
   "cell_type": "code",
   "execution_count": 55,
   "id": "7e7e5f64-9131-43d7-aa80-c31a437f7e92",
   "metadata": {},
   "outputs": [
    {
     "data": {
      "image/png": "[encoded data removed]",
      "text/plain": [
       "<Figure size 432x288 with 1 Axes>"
      ]
     },
     "metadata": {
      "needs_background": "light"
     },
     "output_type": "display_data"
    }
   ],
   "source": [
    "test_county_mape_post_covid = plot_mape_dist(counterfactual_df, post_covid_expected_df_sale, \"predicted_median_sale_price\", \"median_sale_price\")"
   ]
  },
  {
   "cell_type": "code",
   "execution_count": 184,
   "id": "540e8aa7-5ccc-47a1-b095-5228dffd2c68",
   "metadata": {},
   "outputs": [
    {
     "data": {
      "image/png": "[encoded data removed]",
      "text/plain": [
       "<Figure size 432x288 with 1 Axes>"
      ]
     },
     "metadata": {
      "needs_background": "light"
     },
     "output_type": "display_data"
    }
   ],
   "source": [
    "test_county_mape = plot_mape_dist(counterfactual_df_test, test_expected_df_sale, \"predicted_median_sale_price\", \"median_sale_price\")"
   ]
  },
  {
   "cell_type": "code",
   "execution_count": 154,
   "id": "60670f4e-8a4b-407f-8db2-39a8f787688d",
   "metadata": {},
   "outputs": [
    {
     "data": {
      "image/png": "[encoded data removed]",
      "text/plain": [
       "<Figure size 432x288 with 1 Axes>"
      ]
     },
     "metadata": {
      "needs_background": "light"
     },
     "output_type": "display_data"
    }
   ],
   "source": [
    "test_county_mape = plot_mape_dist(counterfactual_df_test, test_expected_df_sale, \"predicted_median_sale_price\", \"median_sale_price\")"
   ]
  },
  {
   "cell_type": "code",
   "execution_count": null,
   "id": "169ad85b-ebb7-4bb6-ac46-f87e9af0e503",
   "metadata": {},
   "outputs": [],
   "source": []
  },
  {
   "cell_type": "code",
   "execution_count": 56,
   "id": "4c26fd1a-eb67-4c69-b955-70da4a283fb6",
   "metadata": {},
   "outputs": [],
   "source": [
    "result = pd.merge(counterfactual_df_test, test_expected_df_sale, on=['county_name', 'state_code', 'period_begin'])\n",
    "result.to_csv(f\"{data_folder}sale_test_pred_comparison.csv\")\n",
    "test_county_mape.to_csv(f\"{data_folder}sale_test_pred_comparison_MAPE.csv\")"
   ]
  },
  {
   "cell_type": "code",
   "execution_count": 57,
   "id": "4e13add2-f70f-434a-9eea-78a49d0047ae",
   "metadata": {},
   "outputs": [],
   "source": [
    "result_pc = pd.merge(counterfactual_df, post_covid_expected_df_sale, on=['county_name', 'state_code', 'period_begin'])\n",
    "result_pc.to_csv(f\"{data_folder}sale_post_covid_pred_comparison.csv\")\n",
    "test_county_mape_post_covid.to_csv(f\"{data_folder}sale_post_covid_pred_comparison_MAPE.csv\")"
   ]
  },
  {
   "cell_type": "code",
   "execution_count": null,
   "id": "15fa03d2-0083-4bd0-aeae-efd65e7d3dbf",
   "metadata": {},
   "outputs": [],
   "source": []
  }
 ],
 "metadata": {
  "kernelspec": {
   "display_name": "Python 3 (ipykernel)",
   "language": "python",
   "name": "python3"
  },
  "language_info": {
   "codemirror_mode": {
    "name": "ipython",
    "version": 3
   },
   "file_extension": ".py",
   "mimetype": "text/x-python",
   "name": "python",
   "nbconvert_exporter": "python",
   "pygments_lexer": "ipython3",
   "version": "3.7.10"
  }
 },
 "nbformat": 4,
 "nbformat_minor": 5
}
