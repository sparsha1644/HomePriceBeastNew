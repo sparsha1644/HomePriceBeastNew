{
 "cells": [
  {
   "cell_type": "code",
   "execution_count": 1,
   "id": "d4eecd94-d4b5-4305-84b0-d6a94fc95436",
   "metadata": {},
   "outputs": [],
   "source": [
    "import numpy as np\n",
    "import random\n",
    "import os, errno\n",
    "import sys\n",
    "from tqdm import trange\n",
    "from copy import deepcopy\n",
    "\n",
    "import torch\n",
    "import torch.nn as nn\n",
    "from torch import optim\n",
    "import torch.nn.functional as F\n",
    "\n",
    "import matplotlib.pyplot as plt\n",
    "\n",
    "import pandas as pd\n",
    "import math"
   ]
  },
  {
   "cell_type": "code",
   "execution_count": 2,
   "id": "007f5cce-7ff7-4e58-9c04-47279143433a",
   "metadata": {},
   "outputs": [],
   "source": [
    "data_folder = \"C:\\\\Users\\\\spars\\\\Documents\\\\Master\\\\JHU\\TML\\\\HomePriceBeastNew\\\\\""
   ]
  },
  {
   "cell_type": "code",
   "execution_count": 3,
   "id": "83657621-76c7-41db-b8fc-a77c1f6b1cc5",
   "metadata": {},
   "outputs": [],
   "source": [
    "def convert_frame_to_numpy(df, remove_cols, target_prefix, related_prefixes, J,H):\n",
    "    \n",
    "    #assemble lag variables.\n",
    "    y_lag_cols = [f'{target_prefix}_lag_{j}' for j in range(J,0,-1)]\n",
    "    y_lead_cols = [target_prefix] + [f'{target_prefix}_lead_{h}' for h in range(1,H+1,1)]    \n",
    "    \n",
    "    flat_drop = []\n",
    "    x_rel_cols = []\n",
    "    for related_prefix in related_prefixes:\n",
    "        if related_prefix == \"inventory\":\n",
    "            curr_prefix = [f'{related_prefix}_lag_1'] + [related_prefix] + [f'{related_prefix}_lead_{h}' for h in range(1,H+1,1)]\n",
    "        else:\n",
    "            curr_prefix = [f'{related_prefix}_lag_{j}' for j in range(J,0,-1)]\n",
    "        x_rel_cols.append(curr_prefix)\n",
    "        flat_drop = flat_drop + curr_prefix\n",
    "        \n",
    "    other_cols = [x for x in df.columns if x not in y_lag_cols\\\n",
    "                  + y_lead_cols + flat_drop + remove_cols + related_prefixes]\n",
    "    \n",
    "    print(f\"Length of other columns = {len(other_cols)}\")\n",
    "    print(other_cols)\n",
    "    \n",
    "    def get_label_row(row):\n",
    "        label = np.array([row[remove_cols].values])\n",
    "        \n",
    "        return label\n",
    "    \n",
    "    def get_xvec_row(row):\n",
    "        x = np.array([row[y_lag_cols].values])\n",
    "        \n",
    "        #Removing sale price in inventory models \n",
    "        for x_rel in x_rel_cols:\n",
    "            x = np.append(x,[row[x_rel].values],axis=0)\n",
    "        \n",
    "        stat_val = row[other_cols].values\n",
    "        stat_val = np.tile(stat_val,[J,1])\n",
    "        stat_val = np.transpose(stat_val)\n",
    "        x = np.append(x,stat_val,axis=0)\n",
    "        \n",
    "        return x\n",
    "    \n",
    "    def get_yvec_row(row):\n",
    "        y = np.array([row[y_lead_cols].values])\n",
    "        \n",
    "        return y\n",
    "            \n",
    "    X = np.array(df.apply(get_xvec_row, axis = 1))\n",
    "    y = np.array(df.apply(get_yvec_row, axis = 1))\n",
    "    label = np.array(df.apply(get_label_row, axis = 1))\n",
    "    \n",
    "    return X,y, label\n",
    "    \n",
    "remove_cols = [\"county_name\", \"period_begin\", \"state_code\"]\n",
    "target_prefix = 'median_sale_price'\n",
    "related_prefix = ['inventory', 'week_num','month','week_offset']\n",
    "J=5\n",
    "H=3"
   ]
  },
  {
   "cell_type": "code",
   "execution_count": 4,
   "id": "c2258b1d-6ba6-4e0d-8597-0c0e10f04614",
   "metadata": {},
   "outputs": [],
   "source": [
    "post_covid_predicted_df_inv = pd.read_csv(f\"{data_folder}post_covid_predicted_df_inv.csv\")\n",
    "post_covid_predicted_df_inv['period_begin'] = pd.to_datetime(post_covid_predicted_df_inv['period_begin'])\n",
    "post_covid_predicted_df_inv.drop([\"Unnamed: 0\"], axis=1, inplace=True)\n",
    "test_predicted_df_inv = pd.read_csv(f\"{data_folder}ptest_predicted_df_inv.csv\")\n",
    "test_predicted_df_inv['period_begin'] = pd.to_datetime(test_predicted_df_inv['period_begin'])"
   ]
  },
  {
   "cell_type": "code",
   "execution_count": 5,
   "id": "5a671d69-7827-493c-9d18-bd577de32b90",
   "metadata": {},
   "outputs": [],
   "source": [
    "post_covid_predicted_df_inv['inventory'] = [x.rstrip(\"]\").lstrip(\"[\").replace(\"nan\",\"0\") for x in post_covid_predicted_df_inv['inventory']]\n",
    "post_covid_predicted_df_inv['inventory'] = pd.to_numeric(post_covid_predicted_df_inv['inventory'])"
   ]
  },
  {
   "cell_type": "code",
   "execution_count": 6,
   "id": "4956dc4a-b723-4971-9e97-f7810ccbb672",
   "metadata": {},
   "outputs": [],
   "source": [
    "def get_lead_lag_features(feature_df,L,colname,time_feature,lag=True):\n",
    "    col_mid = \"lead\"\n",
    "    mult = -1\n",
    "    \n",
    "    if lag:\n",
    "        col_mid = \"lag\"\n",
    "        mult = 1\n",
    "        \n",
    "    other_cols = [x for x in feature_df.columns if x!=colname and x!=time_feature]\n",
    "    print(other_cols)\n",
    "    cols = other_cols+ [time_feature]\n",
    "    feature_df = feature_df.sort_values(cols).reset_index(drop=True)\n",
    "    \n",
    "    new_feature_df = pd.DataFrame()\n",
    "    for lag in range(L):\n",
    "        l = lag +1\n",
    "        col = f\"{colname}_{col_mid}_{l}\"\n",
    "        new_feature_df[col] = feature_df.groupby(other_cols)[colname].shift(l*mult)\n",
    "    new_feature_df.fillna(0,inplace=True)\n",
    "    \n",
    "    result = pd.concat([feature_df, new_feature_df], axis=1)\n",
    "    return result"
   ]
  },
  {
   "cell_type": "code",
   "execution_count": 7,
   "id": "42b90560-0b6b-4764-8bd5-270e46e47612",
   "metadata": {},
   "outputs": [],
   "source": [
    "def get_lag_features(feature_df, J, colname, time_feature):\n",
    "    \n",
    "    return get_lead_lag_features(feature_df, J, colname, time_feature)\n",
    "\n",
    "def get_lead_features(feature_df, H, colname, time_feature):\n",
    "    \n",
    "    return get_lead_lag_features(feature_df, H, colname, time_feature,lag=False)"
   ]
  },
  {
   "cell_type": "code",
   "execution_count": 8,
   "id": "26705154-1f2f-459c-81b6-ce5e8beda1e7",
   "metadata": {},
   "outputs": [
    {
     "name": "stdout",
     "output_type": "stream",
     "text": [
      "['state_code', 'county_name']\n",
      "['state_code', 'county_name']\n"
     ]
    }
   ],
   "source": [
    "dt_col = \"period_begin\"\n",
    "y = \"inventory\"\n",
    "H = 3\n",
    "J = 5\n",
    "\n",
    "y_feature_df_lag = get_lag_features(post_covid_predicted_df_inv, J, y, dt_col)    \n",
    "y_feature_df_lead = get_lead_features(post_covid_predicted_df_inv, H, y, dt_col)\n",
    "y_feature_df_lead = y_feature_df_lead[[x for x in y_feature_df_lead.columns if x not in y_feature_df_lag.columns]]\n",
    "\n",
    "y_feature_df = pd.concat([y_feature_df_lag, \n",
    "                          y_feature_df_lead], axis=1)\n",
    "\n",
    "post_covid_predicted_df_inv = y_feature_df"
   ]
  },
  {
   "cell_type": "code",
   "execution_count": 9,
   "id": "e6db7aaa-21e6-4134-ad12-2efbb8164c94",
   "metadata": {},
   "outputs": [],
   "source": [
    "def chunks(a, size):\n",
    "    arr = iter(a)\n",
    "    for v in arr:\n",
    "        tmp = [ v ]\n",
    "        for i,v in zip( range( size - 1 ), arr ):\n",
    "            tmp.append( v )\n",
    "        yield tmp"
   ]
  },
  {
   "cell_type": "code",
   "execution_count": 10,
   "id": "4f6cffff-3a66-46f5-8ade-198ec5069caf",
   "metadata": {},
   "outputs": [],
   "source": [
    "post_covid_frame = pd.read_csv(f\"{data_folder}post_covid_frame_df_sale_model.csv\")\n",
    "test_frame = pd.read_csv(f\"{data_folder}test_frame_df_sale_model.csv\")"
   ]
  },
  {
   "cell_type": "code",
   "execution_count": 11,
   "id": "f3a07880-7091-4c2e-a9d7-43c1fe0625a7",
   "metadata": {},
   "outputs": [
    {
     "data": {
      "text/plain": [
       "['inventory',\n",
       " 'inventory_lag_1',\n",
       " 'inventory_lag_2',\n",
       " 'inventory_lag_3',\n",
       " 'inventory_lag_4',\n",
       " 'inventory_lag_5',\n",
       " 'inventory_lead_1',\n",
       " 'inventory_lead_2',\n",
       " 'inventory_lead_3']"
      ]
     },
     "execution_count": 11,
     "metadata": {},
     "output_type": "execute_result"
    }
   ],
   "source": [
    "del_cols = [x for x in post_covid_frame.columns if \"inventory\" in x]\n",
    "del_cols"
   ]
  },
  {
   "cell_type": "code",
   "execution_count": 12,
   "id": "358a4371-0528-481c-a0cf-d883a7b9bc42",
   "metadata": {},
   "outputs": [],
   "source": [
    "post_covid_counterfactual_frame = post_covid_frame.drop(del_cols, axis = 1)\n",
    "post_covid_counterfactual_frame['period_begin'] = pd.to_datetime(post_covid_counterfactual_frame['period_begin'])\n",
    "post_covid_counterfactual_frame.drop([\"Unnamed: 0\"], axis=1, inplace=True)"
   ]
  },
  {
   "cell_type": "code",
   "execution_count": 13,
   "id": "89871f94-a817-4bf5-b9f6-4597f6c9a3ee",
   "metadata": {},
   "outputs": [],
   "source": [
    "post_covid_counterfactual_frame = pd.merge(\n",
    "    post_covid_counterfactual_frame,\n",
    "    post_covid_predicted_df_inv,\n",
    "    how=\"inner\")"
   ]
  },
  {
   "cell_type": "code",
   "execution_count": 14,
   "id": "d130380c-d430-4281-89b7-ef94ed0eed75",
   "metadata": {},
   "outputs": [
    {
     "name": "stdout",
     "output_type": "stream",
     "text": [
      "Length of other columns = 86\n",
      "['R_INTERNATIONAL_MIG_2019', 'Unemployment_rate_2020', 'PCT_COLL_4_2015_19', 'PCT_COLL_1TO3_2000', 'PCT_HSD_Only_2000', 'R_NET_MIG_2019', 'Med_HH_Income_Percent_of_State_Total_2019', 'GQ_ESTIMATES_2019', 'N_POP_CHG_2019', 'INTERNATIONAL_MIG_2019', 'NET_MIG_2019', 'HSD_Only_2000', 'DOMESTIC_MIG_2019', 'RESIDUAL_2019', 'Deaths_2019', 'COLL_4_2000', 'POP_ESTIMATE_2019', 'LT_HSD_2015_19', 'COLL_1TO3_2000', 'Unemployed_2020', 'NATURAL_INC_2019', 'GQ_ESTIMATES_BASE_2010', 'Employed_2020', 'LT_HSD_2000', 'COLL_4_2015_19', 'HSD_Only_2015_19', 'COLL_1TO3_2015_19', 'Civilian_labor_force_2020', 'CENSUS_2010_POP', 'PCT_LT_HSD_2000', 'R_birth_2019', 'PCT_COLL_1TO3_2015_19', 'PCT_COLL_4_2000', 'Economic_typology_2015', 'R_death_2019', 'state_code_dummy_AK', 'state_code_dummy_AL', 'state_code_dummy_AR', 'state_code_dummy_AZ', 'state_code_dummy_CA', 'state_code_dummy_CO', 'state_code_dummy_CT', 'state_code_dummy_DC', 'state_code_dummy_DE', 'state_code_dummy_FL', 'state_code_dummy_GA', 'state_code_dummy_HI', 'state_code_dummy_IA', 'state_code_dummy_ID', 'state_code_dummy_IL', 'state_code_dummy_IN', 'state_code_dummy_KS', 'state_code_dummy_KY', 'state_code_dummy_LA', 'state_code_dummy_MA', 'state_code_dummy_MD', 'state_code_dummy_ME', 'state_code_dummy_MI', 'state_code_dummy_MN', 'state_code_dummy_MO', 'state_code_dummy_MS', 'state_code_dummy_NC', 'state_code_dummy_NE', 'state_code_dummy_NH', 'state_code_dummy_NJ', 'state_code_dummy_NM', 'state_code_dummy_NV', 'state_code_dummy_NY', 'state_code_dummy_OH', 'state_code_dummy_OK', 'state_code_dummy_OR', 'state_code_dummy_PA', 'state_code_dummy_RI', 'state_code_dummy_SC', 'state_code_dummy_TN', 'state_code_dummy_TX', 'state_code_dummy_UT', 'state_code_dummy_VA', 'state_code_dummy_VT', 'state_code_dummy_WA', 'state_code_dummy_WI', 'state_code_dummy_WV', 'inventory_lag_2', 'inventory_lag_3', 'inventory_lag_4', 'inventory_lag_5']\n"
     ]
    }
   ],
   "source": [
    "X_post_covid_counterfactual, y_post_covid_expected, post_covid_label_counterfactual = convert_frame_to_numpy(post_covid_counterfactual_frame, \n",
    "                                                                        remove_cols, \n",
    "                                                                        target_prefix, \n",
    "                                                                        related_prefix, \n",
    "                                                                        J,H)"
   ]
  },
  {
   "cell_type": "code",
   "execution_count": 15,
   "id": "64af14c2-4d20-4ca2-99b6-43fa34d0ddcb",
   "metadata": {},
   "outputs": [],
   "source": [
    "stack_range = np.array(X_post_covid_counterfactual[0]).shape[0]\n",
    "X_post_covid_counterfactual_stack = list(chunks(np.vstack(X_post_covid_counterfactual), stack_range))\n",
    "post_covid_label_counterfactual_stack = np.expand_dims(np.vstack(post_covid_label_counterfactual),axis=2)\n",
    "y_post_covid_expected_stack = np.expand_dims(np.vstack(y_post_covid_expected),axis=2)\n",
    "\n",
    "X_post_covid_counterfactual_swap = np.array(X_post_covid_counterfactual_stack).swapaxes(0,1).swapaxes(0,2)\n",
    "post_covid_label_counterfactual_swap = np.array(post_covid_label_counterfactual_stack).swapaxes(0,1)\n",
    "y_post_covid_expected_swap = np.array(y_post_covid_expected_stack).swapaxes(0,1)"
   ]
  },
  {
   "cell_type": "code",
   "execution_count": 16,
   "id": "ed3d915d-c050-4f67-b4a6-ffaaf2c573ed",
   "metadata": {},
   "outputs": [],
   "source": [
    "with open(f\"{data_folder}post_covid_counterfactual_swap.npy\", 'wb') as f:\n",
    "    np.save(f, X_post_covid_counterfactual_swap.astype(float))\n",
    "    np.save(f, y_post_covid_expected_stack.astype(float))\n",
    "    \n",
    "with open(f\"{data_folder}post_covid_label_counterfactual_swap.npy\", 'wb') as f:\n",
    "    np.save(f, post_covid_label_counterfactual_swap)"
   ]
  },
  {
   "cell_type": "code",
   "execution_count": null,
   "id": "e3e3c7c4-28d2-445a-892d-25e7505ab7e3",
   "metadata": {},
   "outputs": [],
   "source": [
    "s"
   ]
  }
 ],
 "metadata": {
  "kernelspec": {
   "display_name": "Python 3 (ipykernel)",
   "language": "python",
   "name": "python3"
  },
  "language_info": {
   "codemirror_mode": {
    "name": "ipython",
    "version": 3
   },
   "file_extension": ".py",
   "mimetype": "text/x-python",
   "name": "python",
   "nbconvert_exporter": "python",
   "pygments_lexer": "ipython3",
   "version": "3.7.10"
  }
 },
 "nbformat": 4,
 "nbformat_minor": 5
}
