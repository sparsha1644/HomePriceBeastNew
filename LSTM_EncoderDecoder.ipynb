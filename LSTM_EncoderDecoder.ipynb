{
 "cells": [
  {
   "cell_type": "code",
   "execution_count": 1,
   "id": "84134ee8-6137-499f-9442-fc730d6cedf8",
   "metadata": {},
   "outputs": [],
   "source": [
    "import numpy as np\n",
    "import random\n",
    "import os, errno\n",
    "import sys\n",
    "from tqdm import trange\n",
    "from copy import deepcopy\n",
    "\n",
    "import torch\n",
    "import torch.nn as nn\n",
    "from torch import optim\n",
    "import torch.nn.functional as F\n",
    "\n",
    "import matplotlib.pyplot as plt\n",
    "\n",
    "import pandas as pd\n",
    "import math\n",
    "\n",
    "#https://github.com/lkulowski/LSTM_encoder_decoder/blob/master/code/"
   ]
  },
  {
   "cell_type": "code",
   "execution_count": 2,
   "id": "8a535d28-7ad1-4ba3-b06c-bdbc4b2b188c",
   "metadata": {},
   "outputs": [
    {
     "data": {
      "text/plain": [
       "True"
      ]
     },
     "execution_count": 2,
     "metadata": {},
     "output_type": "execute_result"
    }
   ],
   "source": [
    "torch.cuda.is_available()"
   ]
  },
  {
   "cell_type": "code",
   "execution_count": 3,
   "id": "2a08d94b-eeea-4335-9010-8c27fae6110c",
   "metadata": {},
   "outputs": [],
   "source": [
    "data_folder = \"C:\\\\Users\\\\spars\\\\Documents\\\\Master\\\\JHU\\TML\\\\HomePriceBeastNew\\\\\""
   ]
  },
  {
   "cell_type": "code",
   "execution_count": 4,
   "id": "07e18eae-02ad-4230-9778-0235e4780eaa",
   "metadata": {},
   "outputs": [],
   "source": [
    "with open(f\"{data_folder}all_model_data.npy\", 'rb') as f:\n",
    "    # Format of input x: (J, batch_size, num_features(k)), y: (H, batch_size, 1)\n",
    "    X_train = np.load(f, allow_pickle=True)\n",
    "    y_train = np.load(f, allow_pickle=True)\n",
    "    X_test = np.load(f, allow_pickle=True)\n",
    "    y_test = np.load(f, allow_pickle=True)"
   ]
  },
  {
   "cell_type": "code",
   "execution_count": 5,
   "id": "bc7a0930-cf0f-4c73-a124-c959662d7167",
   "metadata": {},
   "outputs": [],
   "source": [
    "with open(f\"{data_folder}all_model_labels_mapping.npy\", 'rb') as f:\n",
    "    train_label = np.load(f, allow_pickle=True)\n",
    "    test_label = np.load(f, allow_pickle=True)"
   ]
  },
  {
   "cell_type": "code",
   "execution_count": 6,
   "id": "37b61a63-e3f6-4fd4-bb87-b4301b937a39",
   "metadata": {},
   "outputs": [
    {
     "name": "stdout",
     "output_type": "stream",
     "text": [
      "(5, 246249, 92)\n",
      "(4, 246249, 1)\n"
     ]
    }
   ],
   "source": [
    "print(X_train.shape)\n",
    "print(y_train.shape)"
   ]
  },
  {
   "cell_type": "code",
   "execution_count": 7,
   "id": "a6b1d0f7-ca53-487a-9213-3a8b028bdde9",
   "metadata": {},
   "outputs": [
    {
     "data": {
      "text/plain": [
       "array([[[449.],\n",
       "        [437.],\n",
       "        [427.],\n",
       "        ...,\n",
       "        [106.],\n",
       "        [105.],\n",
       "        [107.]],\n",
       "\n",
       "       [[437.],\n",
       "        [427.],\n",
       "        [418.],\n",
       "        ...,\n",
       "        [105.],\n",
       "        [107.],\n",
       "        [108.]],\n",
       "\n",
       "       [[427.],\n",
       "        [418.],\n",
       "        [409.],\n",
       "        ...,\n",
       "        [107.],\n",
       "        [108.],\n",
       "        [109.]],\n",
       "\n",
       "       [[418.],\n",
       "        [409.],\n",
       "        [410.],\n",
       "        ...,\n",
       "        [108.],\n",
       "        [109.],\n",
       "        [108.]]])"
      ]
     },
     "execution_count": 7,
     "metadata": {},
     "output_type": "execute_result"
    }
   ],
   "source": [
    "np.nan_to_num(X_train,copy=False)\n",
    "np.nan_to_num(y_train,copy=False)\n",
    "np.nan_to_num(X_test,copy=False)\n",
    "np.nan_to_num(y_test,copy=False)"
   ]
  },
  {
   "cell_type": "code",
   "execution_count": 8,
   "id": "4fb5db75-9703-4477-8888-3893cb9ff342",
   "metadata": {},
   "outputs": [],
   "source": [
    "X_train_torch = torch.from_numpy(X_train).type(torch.Tensor).cuda()\n",
    "Y_train_torch = torch.from_numpy(y_train).type(torch.Tensor).cuda()\n",
    "\n",
    "X_test_torch = torch.from_numpy(X_test).type(torch.Tensor).cuda()\n",
    "Y_test_torch = torch.from_numpy(y_test).type(torch.Tensor).cuda()"
   ]
  },
  {
   "cell_type": "code",
   "execution_count": 9,
   "id": "d94e22ea-a7b5-4f3a-b476-1fe5a939973e",
   "metadata": {},
   "outputs": [],
   "source": [
    "class inp_layer_norm(nn.Module):\n",
    "    def __init__(self,input_size):\n",
    "        '''\n",
    "        : param input_size:     the number of features in the input X\n",
    "        '''\n",
    "        \n",
    "        super(inp_layer_norm, self).__init__()\n",
    "        \n",
    "        self.layerNorm = nn.LayerNorm(input_size)\n",
    "        \n",
    "    def forward(self,x_input):\n",
    "        n_input = self.layerNorm(x_input)\n",
    "        \n",
    "        return n_input"
   ]
  },
  {
   "cell_type": "code",
   "execution_count": 10,
   "id": "322b101f-61e1-48dd-8fdb-0e7a0adcbd3e",
   "metadata": {},
   "outputs": [],
   "source": [
    "class lstm_final_output(nn.Module):\n",
    "    '''Takes the final decoder output and the output a single feature.'''\n",
    "    def __init__(self, input_size, output_size):\n",
    "        '''\n",
    "        : param input_size:     the number of features in the input X\n",
    "        : param output_size:    the number of features in the output Y\n",
    "        '''\n",
    "        \n",
    "        super(lstm_final_output, self).__init__()\n",
    "        self.input_size = input_size\n",
    "        self.output_size = output_size \n",
    "        \n",
    "        self.linear = nn.Linear(input_size, output_size)\n",
    "        \n",
    "    def forward(self, x_input):\n",
    "        \n",
    "        '''        \n",
    "        : param x_input:                    should be 2D (batch_size, input_size)\n",
    "        : param encoder_hidden_states:      hidden states\n",
    "        : return output, hidden:            output gives all the hidden states in the sequence;\n",
    "        :                                   hidden gives the hidden state and cell state for the last\n",
    "        :                                   element in the sequence \n",
    " \n",
    "        '''\n",
    "        output = self.linear(x_input.squeeze(0))     \n",
    "        \n",
    "        return output\n",
    "\n",
    "    \n",
    "class lstm_encoder(nn.Module):\n",
    "    ''' Encodes time-series sequence '''\n",
    "\n",
    "    def __init__(self, input_size, hidden_size, dropout = 0.0, num_layers = 1):\n",
    "        \n",
    "        '''\n",
    "        : param input_size:     the number of features in the input X\n",
    "        : param hidden_size:    the number of features in the hidden state h\n",
    "        : param num_layers:     number of recurrent layers (i.e., 2 means there are\n",
    "        :                       2 stacked LSTMs)\n",
    "        '''\n",
    "        \n",
    "        super(lstm_encoder, self).__init__()\n",
    "        self.input_size = input_size\n",
    "        self.hidden_size = hidden_size \n",
    "        self.num_layers = num_layers\n",
    "       \n",
    "        # define LSTM layer\n",
    "        self.lstm = nn.LSTM(input_size = input_size, hidden_size = hidden_size, dropout=dropout,\n",
    "                            num_layers = num_layers)\n",
    "        \n",
    "        \n",
    "    def forward(self, x_input):\n",
    "        \n",
    "        '''\n",
    "        : param x_input:               input of shape (seq_len, # in batch, input_size)\n",
    "        : return lstm_out, hidden:     lstm_out gives all the hidden states in the sequence;\n",
    "        :                              hidden gives the hidden state and cell state for the last\n",
    "        :                              element in the sequence \n",
    "        '''\n",
    "\n",
    "        lstm_out, self.hidden = self.lstm(x_input.view(x_input.shape[0], x_input.shape[1], self.input_size))\n",
    "        \n",
    "        return lstm_out, self.hidden     \n",
    "    \n",
    "    def init_hidden(self, batch_size):\n",
    "        \n",
    "        '''\n",
    "        initialize hidden state\n",
    "        : param batch_size:    x_input.shape[1]\n",
    "        : return:              zeroed hidden state and cell state \n",
    "        '''\n",
    "        \n",
    "        return (torch.zeros(self.num_layers, batch_size, self.hidden_size),\n",
    "                torch.zeros(self.num_layers, batch_size, self.hidden_size))\n",
    "\n",
    "\n",
    "class lstm_decoder(nn.Module):\n",
    "    ''' Decodes hidden state output by encoder '''\n",
    "    \n",
    "    def __init__(self, input_size, hidden_size, dropout=0.0, num_layers = 1):\n",
    "\n",
    "        '''\n",
    "        : param input_size:     the number of features in the input X\n",
    "        : param hidden_size:    the number of features in the hidden state h\n",
    "        : param num_layers:     number of recurrent layers (i.e., 2 means there are\n",
    "        :                       2 stacked LSTMs)\n",
    "        '''\n",
    "        \n",
    "        super(lstm_decoder, self).__init__()\n",
    "        self.input_size = input_size\n",
    "        self.hidden_size = hidden_size\n",
    "        self.num_layers = num_layers\n",
    "\n",
    "        self.lstm = nn.LSTM(input_size = input_size, hidden_size = hidden_size, dropout = dropout,\n",
    "                            num_layers = num_layers)\n",
    "        self.linear = nn.Linear(hidden_size, input_size)           \n",
    "\n",
    "    def forward(self, x_input, encoder_hidden_states):\n",
    "        \n",
    "        '''        \n",
    "        : param x_input:                    should be 2D (batch_size, input_size)\n",
    "        : param encoder_hidden_states:      hidden states\n",
    "        : return output, hidden:            output gives all the hidden states in the sequence;\n",
    "        :                                   hidden gives the hidden state and cell state for the last\n",
    "        :                                   element in the sequence \n",
    " \n",
    "        '''\n",
    "        lstm_out, self.hidden = self.lstm(x_input.unsqueeze(0), encoder_hidden_states)\n",
    "        output = self.linear(lstm_out.squeeze(0))     \n",
    "        \n",
    "        return output, self.hidden\n",
    "\n",
    "class lstm_seq2seq(nn.Module):\n",
    "    ''' train LSTM encoder-decoder and make predictions '''\n",
    "    \n",
    "    def __init__(self, input_size, hidden_size, output_size, dropout = 0.0, num_layers=1):\n",
    "\n",
    "        '''\n",
    "        : param input_size:     the number of expected features in the input X\n",
    "        : param hidden_size:    the number of features in the hidden state h\n",
    "        : param output_size:    the number of features in the output Y\n",
    "        '''\n",
    "\n",
    "        super(lstm_seq2seq, self).__init__()\n",
    "\n",
    "        self.input_size = input_size\n",
    "        self.hidden_size = hidden_size\n",
    "        self.output_size = output_size\n",
    "        \n",
    "        self.layer_norm = inp_layer_norm(input_size = input_size)\n",
    "        self.encoder = lstm_encoder(input_size = input_size, hidden_size = hidden_size, dropout=dropout, num_layers=num_layers)\n",
    "        self.decoder = lstm_decoder(input_size = input_size, hidden_size = hidden_size, dropout=dropout, num_layers=num_layers)\n",
    "        self.outputter = lstm_final_output(input_size = input_size, output_size = output_size)\n",
    "\n",
    "    def train_model(self, input_tensor, target_tensor, n_epochs, target_len, batch_size, learning_rate = 0.01):\n",
    "        \n",
    "        '''\n",
    "        train lstm encoder-decoder\n",
    "        \n",
    "        : param input_tensor:              input data with shape (seq_len, # in batch, number features); PyTorch tensor    \n",
    "        : param target_tensor:             target data with shape (seq_len, # in batch, number features); PyTorch tensor\n",
    "        : param n_epochs:                  number of epochs \n",
    "        : param target_len:                number of values to predict \n",
    "        : param batch_size:                number of samples per gradient update\n",
    "        : param learning_rate:             float >= 0; learning rate\n",
    "        : return losses:                   array of loss function for each epoch\n",
    "        '''\n",
    "        \n",
    "        # initialize array of losses \n",
    "        losses = np.full(n_epochs, np.nan)\n",
    "        losses_per_horizon = np.full((n_epochs, target_len), np.nan)\n",
    "\n",
    "        optimizer = optim.Adam(self.parameters(), lr = learning_rate)\n",
    "        criterion = nn.MSELoss()\n",
    "\n",
    "        # calculate number of batch iterations\n",
    "        n_batches = int(input_tensor.shape[1] / batch_size)\n",
    "\n",
    "        with trange(n_epochs) as tr:\n",
    "            for it in tr:\n",
    "                \n",
    "                batch_loss = 0.\n",
    "                batch_loss_tf = 0.\n",
    "                batch_loss_no_tf = 0.\n",
    "                num_tf = 0\n",
    "                num_no_tf = 0\n",
    "\n",
    "                for b in range(n_batches):\n",
    "                    # select data \n",
    "                    input_batch = input_tensor[:, b: b + batch_size, :]\n",
    "                    target_batch = target_tensor[:, b: b + batch_size, :]\n",
    "\n",
    "                    # outputs tensor\n",
    "                    outputs = torch.zeros(target_len, batch_size, target_batch.shape[2]).cuda()\n",
    "\n",
    "                    # initialize hidden state\n",
    "                    encoder_hidden = self.encoder.init_hidden(batch_size)\n",
    "\n",
    "                    # zero the gradient\n",
    "                    optimizer.zero_grad()\n",
    "                    \n",
    "                    #Layer normalization\n",
    "                    input_batch = self.layer_norm(input_batch)\n",
    "\n",
    "                    # encoder outputs\n",
    "                    encoder_output, encoder_hidden = self.encoder(input_batch)\n",
    "\n",
    "                    # decoder with teacher forcing\n",
    "                    decoder_input = input_batch[-1, :, :]   # shape: (batch_size, input_size)\n",
    "                    decoder_hidden = encoder_hidden\n",
    "\n",
    "                    # predict recursively\n",
    "                    for t in range(target_len): \n",
    "                        decoder_output, decoder_hidden = self.decoder(decoder_input, decoder_hidden)\n",
    "                        outputs[t] = self.outputter(decoder_output)\n",
    "                        decoder_input = decoder_output\n",
    "\n",
    "                    # compute the loss \n",
    "                    loss = criterion(outputs, target_batch)\n",
    "                    loss_per_horizon = np.full(target_len, np.nan)\n",
    "                    for t in range(target_len): \n",
    "                        loss_per_horizon[t] = criterion(outputs[t], target_batch[t])\n",
    "                    batch_loss += loss.item()\n",
    "                    \n",
    "                    # backpropagation\n",
    "                    loss.backward()\n",
    "                    optimizer.step()\n",
    "\n",
    "                # loss for epoch \n",
    "                batch_loss /= n_batches \n",
    "                losses[it] = batch_loss\n",
    "                for t in range(target_len):\n",
    "                    losses_per_horizon[it][t] = loss_per_horizon[t]\n",
    "                # progress bar \n",
    "                tr.set_postfix(loss=\"{0:.3f}\".format(batch_loss))\n",
    "                    \n",
    "        return losses, losses_per_horizon\n",
    "\n",
    "    def predict(self, input_tensor, target_len):\n",
    "        \n",
    "        '''\n",
    "        : param input_tensor:      input data (seq_len, input_size); PyTorch tensor \n",
    "        : param target_len:        number of target values to predict \n",
    "        : return np_outputs:       np.array containing predicted values; prediction done recursively \n",
    "        '''\n",
    "\n",
    "        # encode input_tensor\n",
    "        input_tensor = input_tensor.unsqueeze(1)     # add in batch size of 1\n",
    "        encoder_output, encoder_hidden = self.encoder(input_tensor)\n",
    "\n",
    "        # initialize tensor for predictions\n",
    "        outputs = torch.zeros(target_len, self.output_size).cuda()\n",
    "\n",
    "        # decode input_tensor\n",
    "        decoder_input = input_tensor[-1, :, :]\n",
    "        decoder_hidden = encoder_hidden\n",
    "        \n",
    "        for t in range(target_len):\n",
    "            decoder_output, decoder_hidden = self.decoder(decoder_input, decoder_hidden)\n",
    "            outputs[t] = self.outputter(decoder_output)\n",
    "            decoder_input = decoder_output\n",
    "            \n",
    "        np_outputs = outputs.cpu().detach().numpy()\n",
    "        \n",
    "        return np_outputs"
   ]
  },
  {
   "cell_type": "code",
   "execution_count": 11,
   "id": "2b8737ab-3c1b-42df-aa9f-3c8a8ad106d8",
   "metadata": {},
   "outputs": [],
   "source": [
    "def plot_train_test_results(lstm_model, Xtrain, Ytrain, Xtest, Ytest, num_rows = 4):\n",
    "    '''\n",
    "    plot examples of the lstm encoder-decoder evaluated on the training/test data\n",
    "\n",
    "    : param lstm_model: trained lstm encoder-decoder\n",
    "    : param Xtrain: np.array of windowed training input data\n",
    "    : param Ytrain: np.array of windowed training target data\n",
    "    : param Xtest: np.array of windowed test input data\n",
    "    : param Ytest: np.array of windowed test target data \n",
    "    : param num_rows: number of training/test examples to plot\n",
    "    : return: num_rows x 2 plots; first column is training data predictions,\n",
    "    : second column is test data predictions\n",
    "    '''\n",
    "    offset = random.randint(5, Ytest.shape[1]-num_rows)\n",
    "    # input window size\n",
    "    iw = Xtrain.shape[0]\n",
    "    ow = Ytest.shape[0]\n",
    "\n",
    "    # figure setup \n",
    "    num_cols = 2\n",
    "    num_plots = num_rows * num_cols\n",
    "\n",
    "    fig, ax = plt.subplots(num_rows, num_cols, figsize = (13, 15))\n",
    "\n",
    "    # plot training/test predictions\n",
    "    for ii in range(num_rows):\n",
    "        # train set\n",
    "        X_train_plt = Xtrain[:, offset+ii, :]\n",
    "        Y_train_pred = lstm_model.predict(torch.from_numpy(X_train_plt).type(torch.Tensor).cuda(), target_len = ow)\n",
    "\n",
    "        ax[ii, 0].plot(np.arange(0, iw), Xtrain[:, offset+ii, 0], 'k', linewidth = 2, label = 'Input')\n",
    "        ax[ii, 0].plot(np.arange(iw - 1, iw + ow), np.concatenate([[Xtrain[-1, offset+ii, 0]], Ytrain[:, offset+ii, 0]]),\n",
    "                                                                 color = (0.2, 0.42, 0.72), linewidth = 2, label = 'Target')\n",
    "        ax[ii, 0].plot(np.arange(iw - 1, iw + ow),        np.concatenate([[Xtrain[-1, offset+ii, 0]], Y_train_pred[:, 0]]),\n",
    "                                                                 color = (0.76, 0.01, 0.01), linewidth = 2, label = 'Prediction')\n",
    "        ax[ii, 0].set_xlim([0, iw + ow - 1])\n",
    "        ax[ii, 0].set_xlabel('$t$')\n",
    "        ax[ii, 0].set_ylabel('$y$')\n",
    "\n",
    "        # test set\n",
    "        X_test_plt = Xtest[:, offset+ii, :]\n",
    "        Y_test_pred = lstm_model.predict(torch.from_numpy(X_test_plt).type(torch.Tensor).cuda(), target_len = ow)\n",
    "        ax[ii, 1].plot(np.arange(0, iw), Xtest[:, offset+ii, 0], 'k', linewidth = 2, label = 'Input')\n",
    "        ax[ii, 1].plot(np.arange(iw - 1, iw + ow), np.concatenate([[Xtest[-1, offset+ii, 0]], Ytest[:, offset+ii, 0]]),\n",
    "                                                                 color = (0.2, 0.42, 0.72), linewidth = 2, label = 'Target')\n",
    "        ax[ii, 1].plot(np.arange(iw - 1, iw + ow), np.concatenate([[Xtest[-1, offset+ii, 0]], Y_test_pred[:, 0]]),\n",
    "                                                                 color = (0.76, 0.01, 0.01), linewidth = 2, label = 'Prediction')\n",
    "        ax[ii, 1].set_xlim([0, iw + ow - 1])\n",
    "        ax[ii, 1].set_xlabel('$t$')\n",
    "        ax[ii, 1].set_ylabel('$y$')\n",
    "\n",
    "        if ii == 0:\n",
    "                ax[ii, 0].set_title('Train')\n",
    "\n",
    "                ax[ii, 1].legend(bbox_to_anchor=(1, 1))\n",
    "                ax[ii, 1].set_title('Test')\n",
    "\n",
    "    plt.suptitle('LSTM Encoder-Decoder Predictions', x = 0.445, y = 1.)\n",
    "    plt.tight_layout()\n",
    "    plt.subplots_adjust(top = 0.95)\n",
    "    plt.show()\n",
    "#         plt.savefig('plots/predictions.png')\n",
    "    plt.close() \n",
    "\n",
    "    return "
   ]
  },
  {
   "cell_type": "code",
   "execution_count": 12,
   "id": "539db210-482b-4a7d-b5b2-c7b2ae99a6d9",
   "metadata": {},
   "outputs": [],
   "source": [
    "def get_prediction_result(X_test, Ytest, test_label, lstm_model):\n",
    "    labels_county = test_label[0,:,0]\n",
    "    labels_period = test_label[1,:,0]\n",
    "    labels_state = test_label[2,:,0]\n",
    "    ow = Ytest.shape[0]\n",
    "    Y_test_pred = np.array([lstm_model.predict(torch.from_numpy(X_test[:,ii,:]).type(torch.Tensor).cuda(), target_len = ow) for ii in range(X_test.shape[1])])\n",
    "    df = pd.DataFrame()\n",
    "    df[\"county_name\"] = labels_county\n",
    "    df[\"period_begin\"] = labels_period\n",
    "    df[\"state_code\"] = labels_state\n",
    "    \n",
    "    for ix in range(ow):\n",
    "        df[f\"y_{ix+1}\"] = Ytest[ix,:,0]\n",
    "        df[f\"y_hat_{ix+1}\"] = Y_test_pred[:,ix,0]\n",
    "    \n",
    "    return df"
   ]
  },
  {
   "cell_type": "code",
   "execution_count": 13,
   "id": "eed02d9a-8f53-4e30-9eca-64af493e78da",
   "metadata": {},
   "outputs": [],
   "source": [
    "def plot_loss_values(loss, losses_per_horizon):\n",
    "    n_epochs = len(loss)\n",
    "    target_len = losses_per_horizon.shape[1]\n",
    "    fig, ax = plt.subplots(2, 1, figsize = (8,8))\n",
    "    col_index = ['k', 'g', 'r', 'b', 'm']\n",
    "    for ii in range(target_len + 1):\n",
    "        if ii == 0:\n",
    "            ax[ii].plot(np.arange(1, n_epochs+1), loss, col_index[ii], linewidth = 2, label = 'Overall Loss')\n",
    "            ax[ii].legend(bbox_to_anchor=(1, 1))\n",
    "            ax[ii].set_title('Overall Loss')\n",
    "            ax[ii].set_xlabel('Epochs')\n",
    "            ax[ii].set_ylabel('Training Loss')\n",
    "        else:\n",
    "            ax[1].plot(np.arange(1, n_epochs+1), losses_per_horizon[:, ii-1], col_index[ii], linewidth = 1, label = f\"Horizon {ii} loss\")\n",
    "            ax[1].legend(bbox_to_anchor=(1, 1))\n",
    "            ax[1].set_title(f\"Horizon loss\")\n",
    "            ax[1].set_xlabel('Epochs')\n",
    "            ax[1].set_ylabel('Training Loss')\n",
    "    plt.suptitle('Loss curves', x = 0.445, y = 1.)\n",
    "    plt.tight_layout()\n",
    "    plt.subplots_adjust(top = 0.95)\n",
    "    plt.show()\n",
    "    #   plt.savefig('plots/predictions.png')\n",
    "    plt.close() "
   ]
  },
  {
   "cell_type": "code",
   "execution_count": 14,
   "id": "b5ceb1a6-098e-4530-8e06-ad9c3f6b87a4",
   "metadata": {},
   "outputs": [],
   "source": [
    "# H = 3\n",
    "# model = lstm_seq2seq(input_size = X_train_torch.shape[2], hidden_size = 30, output_size = 1).cuda()\n",
    "# loss, losses_per_horizon = model.train_model(X_train_torch, \n",
    "#                          Y_train_torch, \n",
    "#                          n_epochs = 10, \n",
    "#                          target_len = (H+1), \n",
    "#                          batch_size = 20000,\n",
    "#                          learning_rate = 0.02)"
   ]
  },
  {
   "cell_type": "code",
   "execution_count": 15,
   "id": "1759faec-c295-4bd8-9e82-7edddc191409",
   "metadata": {},
   "outputs": [],
   "source": [
    "# plot_loss_values(loss, losses_per_horizon)"
   ]
  },
  {
   "cell_type": "code",
   "execution_count": 16,
   "id": "34b5f9a8-5103-42f4-a28d-da7f855ffb38",
   "metadata": {},
   "outputs": [],
   "source": [
    "# df = get_prediction_result(X_test, y_test, test_label, model)"
   ]
  },
  {
   "cell_type": "code",
   "execution_count": 17,
   "id": "2478a06a-2644-4f9f-8338-0d9025054e1d",
   "metadata": {},
   "outputs": [],
   "source": [
    "# def plot_mape_dist(df):\n",
    "#     for i in range(1,5):\n",
    "#         df[f\"mape_{i}\"] = math.abs(df[f\"y_hat_{i}\"] - df[f\"y_{i}\"])/(df[f\"y_{i}\"] + 0.00001)"
   ]
  },
  {
   "cell_type": "code",
   "execution_count": 18,
   "id": "5d4a7048-9847-4ff4-b704-9ca7244c773a",
   "metadata": {},
   "outputs": [],
   "source": [
    "# plot predictions on train/test data\n",
    "# plot_train_test_results(model, \n",
    "#                          X_train, \n",
    "#                          y_train, \n",
    "#                          X_test, \n",
    "#                          y_test)\n",
    "\n",
    "# plt.close('all')"
   ]
  },
  {
   "cell_type": "markdown",
   "id": "1eb39f27-3df0-4a38-bffc-347272f4c311",
   "metadata": {},
   "source": [
    "#Goals :\n",
    "3) Get MAPE plots. \n",
    "1) Make the model complex. \n",
    "4) Create a grid search for params and pick best model. \n",
    "5) Repeat this for median sale price without supply. "
   ]
  },
  {
   "cell_type": "code",
   "execution_count": null,
   "id": "4da52445-9882-42d7-a0ba-4342c1399f7f",
   "metadata": {},
   "outputs": [
    {
     "name": "stdout",
     "output_type": "stream",
     "text": [
      "-------------------------------------\n",
      "HIDDEN SIZE 30 : NUM LAYERS : 2 : LEARNING RATE : 0.02 : DROP OUT : 0.0\n"
     ]
    },
    {
     "name": "stderr",
     "output_type": "stream",
     "text": [
      " 20%|███████████████████████████████▉                                                                                                                             | 61/300 [03:40<11:50,  2.97s/it, loss=7619.395]"
     ]
    }
   ],
   "source": [
    "H=3\n",
    "hidden_sizes = [30,40]\n",
    "layers = [2,4,6]\n",
    "learning_rates = [0.02,0.04]\n",
    "dropouts = [0.0]\n",
    "n_epochs = 300\n",
    "batch_size = 5000\n",
    "\n",
    "best_model = None\n",
    "best_loss = float(\"inf\")\n",
    "best_losses_per_horizon = None\n",
    "\n",
    "for h in hidden_sizes:\n",
    "    for l in layers: \n",
    "        for lr in learning_rates:\n",
    "            for do in dropouts:\n",
    "                print(\"-------------------------------------\")\n",
    "                print(f\"HIDDEN SIZE {h} : NUM LAYERS : {l} : LEARNING RATE : {lr} : DROP OUT : {do}\")\n",
    "\n",
    "                model = lstm_seq2seq(input_size = X_train_torch.shape[2], hidden_size = h, dropout = do,\n",
    "                                     output_size = 1, num_layers=l).cuda()\n",
    "                loss, losses_per_horizon = model.train_model(X_train_torch, \n",
    "                                         Y_train_torch, \n",
    "                                         n_epochs = n_epochs, \n",
    "                                         target_len = (H+1), \n",
    "                                         batch_size = batch_size,\n",
    "                                         learning_rate = lr)\n",
    "                \n",
    "                if loss[n_epochs - 1] < best_loss:\n",
    "                    print(\"New best model found\")\n",
    "                    best_model = model\n",
    "                    best_loss = loss[n_epochs - 1]\n",
    "                    best_losses_per_horizon = losses_per_horizon\n",
    "                    \n",
    "                plot_loss_values(loss, losses_per_horizon)\n",
    "\n",
    "\n",
    "                # plot predictions on train/test data\n",
    "                plot_train_test_results(model, \n",
    "                                         X_train, \n",
    "                                         y_train, \n",
    "                                         X_test, \n",
    "                                         y_test)\n",
    "                \n",
    "                \n",
    "                print(\"-------------------------------------\")\n",
    "torch.save(best_model.state_dict(), './inv_model.pth')"
   ]
  },
  {
   "cell_type": "markdown",
   "id": "fd661b0c-2956-4bd2-8a11-e7276b92c056",
   "metadata": {},
   "source": [
    "#Final Model Train for best model. - HIDDEN SIZE 30 : NUM LAYERS : 8 : LEARNING RATE : 0.01 - Result on 300/300 [2:43:01<00:00, 32.61s/it, loss=56721.818]"
   ]
  },
  {
   "cell_type": "code",
   "execution_count": null,
   "id": "1fd9edbb-34cd-4784-9dce-79219f30d16f",
   "metadata": {},
   "outputs": [],
   "source": [
    "torch.save(best_model.state_dict(), './inv_model.pth')"
   ]
  },
  {
   "cell_type": "markdown",
   "id": "09faea8c-8c33-43d4-a5f6-020d32a39217",
   "metadata": {},
   "source": [
    "#TODO : \n",
    "1) Predict and collect results and MAPE. \n",
    "2) Create counterfactual and get model predictions"
   ]
  },
  {
   "cell_type": "code",
   "execution_count": 9,
   "id": "1364e576-7c99-4fc2-8b1f-3601ba4acc9d",
   "metadata": {},
   "outputs": [],
   "source": [
    "with open(f\"{data_folder}post_covid_inv_data.npy\", 'rb') as f:\n",
    "    X_post_covid = np.load(f, allow_pickle=True)\n",
    "    y_post_covid = np.load(f, allow_pickle=True)\n",
    "    \n",
    "with open(f\"{data_folder}post_covid_inv_labels_mapping.npy\", 'rb') as f:\n",
    "    post_covid_label = np.load(f, allow_pickle=True)"
   ]
  },
  {
   "cell_type": "code",
   "execution_count": 10,
   "id": "33c65663-be18-4538-aa9c-219a54468bab",
   "metadata": {},
   "outputs": [],
   "source": [
    "def get_counterfactual_inventory(X_post_covid, post_covid_label, lstm_model):\n",
    "    labels_county = post_covid_label[0,:,0]\n",
    "    labels_period = post_covid_label[1,:,0]\n",
    "    labels_state = post_covid_label[2,:,0]\n",
    "    labels_fips = [c + ',' + s for c,s in zip(list(labels_county), list(labels_state))]\n",
    "    labels_fips_unique = np.unique(labels_fips)\n",
    "\n",
    "    column_names = [\"state_code\", \"county_name\", \"period_begin\", 'inventory']\n",
    "    \n",
    "    counterfactual_df = pd.DataFrame()\n",
    "    \n",
    "    for fips in labels_fips_unique:\n",
    "#         print(f\"Computing for fips {fips}\")\n",
    "        indices = [i for i, x in enumerate(labels_fips) if x == fips]\n",
    "\n",
    "        periods = labels_period[indices]\n",
    "        len_periods = len(periods)\n",
    "#         print(f\"len(periods) : {len(periods)}\")\n",
    "        start_period_index = min(indices)\n",
    "#         print(f\"start_period_index : {start_period_index}\")\n",
    "        y_res = lstm_model.predict(torch.from_numpy(X_post_covid[:,start_period_index,:]).type(torch.Tensor).cuda(), target_len = len_periods)\n",
    "\n",
    "        df2 = pd.DataFrame()\n",
    "        df2['inventory'] = list(y_res)\n",
    "        df2['period_begin'] = labels_period[start_period_index: start_period_index+len_periods]\n",
    "        df2['state_code'] = labels_state[start_period_index]\n",
    "        df2['county_name'] = labels_county[start_period_index]\n",
    "        \n",
    "        counterfactual_df = counterfactual_df.append(df2, ignore_index = True)\n",
    "\n",
    "    return counterfactual_df"
   ]
  },
  {
   "cell_type": "code",
   "execution_count": 11,
   "id": "843561d3-073f-4f51-b2ff-5fbb82cce964",
   "metadata": {},
   "outputs": [],
   "source": [
    "def plot_mape_dist(predicted_df, expected_df):\n",
    "    expected_df.rename(columns={\"inventory\": \"actual_inventory\"},inplace=True)\n",
    "    result = pd.merge(predicted_df, expected_df, on=['county_name', 'state_code', 'period_begin'])\n",
    "    county_mape = result.groupby(['county_name', 'state_code']).apply(lambda x:sum(abs(x['actual_inventory'] - x['inventory'])) / (sum(abs(x['actual_inventory']))+0.1))\n",
    "    county_mape = county_mape.reset_index()\n",
    "    county_mape.rename(columns={0:'MAPE'},inplace=True)\n",
    "    county_mape['MAPE'] = county_mape['MAPE'].apply(lambda x: x[0] if type(x) == list else x)\n",
    "    \n",
    "    county_mape['MAPE'].hist(bins=30, range=(0,2))\n",
    "    return county_mape"
   ]
  },
  {
   "cell_type": "code",
   "execution_count": 18,
   "id": "ab86ac11-3d1d-446f-8e13-fd61c67d41cb",
   "metadata": {},
   "outputs": [
    {
     "data": {
      "text/plain": [
       "<All keys matched successfully>"
      ]
     },
     "execution_count": 18,
     "metadata": {},
     "output_type": "execute_result"
    }
   ],
   "source": [
    "#HIDDEN SIZE 10 : NUM LAYERS : 2 : LEARNING RATE : 0.02 : DROP OUT : 0.0\n",
    "best_model = lstm_seq2seq(input_size = X_train_torch.shape[2], hidden_size = 15, dropout = 0.0,\n",
    "                     output_size = 1, num_layers=2).cuda()\n",
    "best_model.load_state_dict(torch.load('./inv_model.pth'))"
   ]
  },
  {
   "cell_type": "code",
   "execution_count": 19,
   "id": "2e961be0-ee55-4ea2-9d78-e2c8e5350459",
   "metadata": {},
   "outputs": [],
   "source": [
    "post_covid_expected_df = pd.read_csv(f\"{data_folder}post_covid_subset_frame.csv\")\n",
    "post_covid_expected_df['period_begin'] = pd.to_datetime(post_covid_expected_df['period_begin'])\n",
    "post_covid_predicted_df = get_counterfactual_inventory(X_post_covid, post_covid_label, best_model)\n",
    "\n",
    "test_expected_df = pd.read_csv(f\"{data_folder}test_subset_frame.csv\")\n",
    "test_expected_df['period_begin'] = pd.to_datetime(test_expected_df['period_begin'])\n",
    "test_predicted_df = get_counterfactual_inventory(X_test, test_label, best_model)"
   ]
  },
  {
   "cell_type": "code",
   "execution_count": 27,
   "id": "0a55e3ae-dd8d-439c-8239-c1c77e334817",
   "metadata": {},
   "outputs": [
    {
     "data": {
      "image/png": "[encoded data removed]",
      "text/plain": [
       "<Figure size 432x288 with 1 Axes>"
      ]
     },
     "metadata": {
      "needs_background": "light"
     },
     "output_type": "display_data"
    }
   ],
   "source": [
    "test_county_mape = plot_mape_dist(post_covid_predicted_df, post_covid_expected_df)"
   ]
  },
  {
   "cell_type": "code",
   "execution_count": 28,
   "id": "11586b31-f097-4746-9f81-2f91ba73872f",
   "metadata": {},
   "outputs": [
    {
     "name": "stderr",
     "output_type": "stream",
     "text": [
      "C:\\ProgramData\\Anaconda3\\envs\\TML\\lib\\site-packages\\ipykernel_launcher.py:1: RuntimeWarning: invalid value encountered in less\n",
      "  \"\"\"Entry point for launching an IPython kernel.\n"
     ]
    },
    {
     "data": {
      "text/plain": [
       "array([0.1160521], dtype=float32)"
      ]
     },
     "execution_count": 28,
     "metadata": {},
     "output_type": "execute_result"
    }
   ],
   "source": [
    "min(test_county_mape.MAPE)"
   ]
  },
  {
   "cell_type": "code",
   "execution_count": 29,
   "id": "8400f808-0bcc-4c44-b7ce-779617cbc8c3",
   "metadata": {},
   "outputs": [
    {
     "name": "stderr",
     "output_type": "stream",
     "text": [
      "C:\\ProgramData\\Anaconda3\\envs\\TML\\lib\\site-packages\\ipykernel_launcher.py:1: RuntimeWarning: invalid value encountered in greater\n",
      "  \"\"\"Entry point for launching an IPython kernel.\n"
     ]
    },
    {
     "data": {
      "text/plain": [
       "array([2076.7476], dtype=float32)"
      ]
     },
     "execution_count": 29,
     "metadata": {},
     "output_type": "execute_result"
    }
   ],
   "source": [
    "max(test_county_mape.MAPE)"
   ]
  },
  {
   "cell_type": "code",
   "execution_count": 30,
   "id": "7d1d40cb-8984-4b8b-a35f-1511b6b7ec3f",
   "metadata": {},
   "outputs": [
    {
     "data": {
      "text/plain": [
       "array([nan], dtype=float32)"
      ]
     },
     "execution_count": 30,
     "metadata": {},
     "output_type": "execute_result"
    }
   ],
   "source": [
    "np.mean(test_county_mape.MAPE)"
   ]
  },
  {
   "cell_type": "code",
   "execution_count": 33,
   "id": "c919606a-3745-4516-a4ca-7d9366e4e361",
   "metadata": {},
   "outputs": [
    {
     "name": "stderr",
     "output_type": "stream",
     "text": [
      "C:\\ProgramData\\Anaconda3\\envs\\TML\\lib\\site-packages\\pandas\\core\\sorting.py:380: RuntimeWarning: invalid value encountered in less\n",
      "  indexer = non_nan_idx[non_nans.argsort(kind=kind)]\n",
      "C:\\ProgramData\\Anaconda3\\envs\\TML\\lib\\site-packages\\pandas\\core\\sorting.py:380: RuntimeWarning: invalid value encountered in greater\n",
      "  indexer = non_nan_idx[non_nans.argsort(kind=kind)]\n"
     ]
    },
    {
     "data": {
      "text/html": [
       "<div>\n",
       "<style scoped>\n",
       "    .dataframe tbody tr th:only-of-type {\n",
       "        vertical-align: middle;\n",
       "    }\n",
       "\n",
       "    .dataframe tbody tr th {\n",
       "        vertical-align: top;\n",
       "    }\n",
       "\n",
       "    .dataframe thead th {\n",
       "        text-align: right;\n",
       "    }\n",
       "</style>\n",
       "<table border=\"1\" class=\"dataframe\">\n",
       "  <thead>\n",
       "    <tr style=\"text-align: right;\">\n",
       "      <th></th>\n",
       "      <th>county_name</th>\n",
       "      <th>state_code</th>\n",
       "      <th>MAPE</th>\n",
       "    </tr>\n",
       "  </thead>\n",
       "  <tbody>\n",
       "    <tr>\n",
       "      <th>1251</th>\n",
       "      <td>Pima County</td>\n",
       "      <td>AZ</td>\n",
       "      <td>[0.1160521]</td>\n",
       "    </tr>\n",
       "    <tr>\n",
       "      <th>384</th>\n",
       "      <td>Cuyahoga County</td>\n",
       "      <td>OH</td>\n",
       "      <td>[0.12958567]</td>\n",
       "    </tr>\n",
       "    <tr>\n",
       "      <th>428</th>\n",
       "      <td>District of Columbia</td>\n",
       "      <td>DC</td>\n",
       "      <td>[0.13055077]</td>\n",
       "    </tr>\n",
       "    <tr>\n",
       "      <th>1675</th>\n",
       "      <td>Westchester County</td>\n",
       "      <td>NY</td>\n",
       "      <td>[0.13586685]</td>\n",
       "    </tr>\n",
       "    <tr>\n",
       "      <th>179</th>\n",
       "      <td>Butler County</td>\n",
       "      <td>OH</td>\n",
       "      <td>[0.14010069]</td>\n",
       "    </tr>\n",
       "    <tr>\n",
       "      <th>...</th>\n",
       "      <td>...</td>\n",
       "      <td>...</td>\n",
       "      <td>...</td>\n",
       "    </tr>\n",
       "    <tr>\n",
       "      <th>85</th>\n",
       "      <td>Beaver County</td>\n",
       "      <td>OK</td>\n",
       "      <td>[872.86847]</td>\n",
       "    </tr>\n",
       "    <tr>\n",
       "      <th>821</th>\n",
       "      <td>Kimble County</td>\n",
       "      <td>TX</td>\n",
       "      <td>[1028.8243]</td>\n",
       "    </tr>\n",
       "    <tr>\n",
       "      <th>914</th>\n",
       "      <td>Lincoln County</td>\n",
       "      <td>GA</td>\n",
       "      <td>[nan]</td>\n",
       "    </tr>\n",
       "    <tr>\n",
       "      <th>882</th>\n",
       "      <td>Lawrence County</td>\n",
       "      <td>OH</td>\n",
       "      <td>[nan]</td>\n",
       "    </tr>\n",
       "    <tr>\n",
       "      <th>1030</th>\n",
       "      <td>McMullen County</td>\n",
       "      <td>TX</td>\n",
       "      <td>[2076.7476]</td>\n",
       "    </tr>\n",
       "  </tbody>\n",
       "</table>\n",
       "<p>1739 rows × 3 columns</p>\n",
       "</div>"
      ],
      "text/plain": [
       "               county_name state_code          MAPE\n",
       "1251           Pima County         AZ   [0.1160521]\n",
       "384        Cuyahoga County         OH  [0.12958567]\n",
       "428   District of Columbia         DC  [0.13055077]\n",
       "1675    Westchester County         NY  [0.13586685]\n",
       "179          Butler County         OH  [0.14010069]\n",
       "...                    ...        ...           ...\n",
       "85           Beaver County         OK   [872.86847]\n",
       "821          Kimble County         TX   [1028.8243]\n",
       "914         Lincoln County         GA         [nan]\n",
       "882        Lawrence County         OH         [nan]\n",
       "1030       McMullen County         TX   [2076.7476]\n",
       "\n",
       "[1739 rows x 3 columns]"
      ]
     },
     "execution_count": 33,
     "metadata": {},
     "output_type": "execute_result"
    }
   ],
   "source": [
    "test_county_mape.sort_values(\"MAPE\")"
   ]
  },
  {
   "cell_type": "markdown",
   "id": "9f8bc61c-32e2-4744-9eb3-097b7739a19d",
   "metadata": {},
   "source": [
    "#Read the best model and save the counterfactual and actual results for test and post covid. "
   ]
  },
  {
   "cell_type": "code",
   "execution_count": 25,
   "id": "c9390223-0f60-4195-ac85-2c42996f923c",
   "metadata": {},
   "outputs": [],
   "source": [
    "post_covid_predicted_df.to_csv(f\"{data_folder}post_covid_predicted_df_inv.csv\")\n",
    "test_predicted_df.to_csv(f\"{data_folder}test_predicted_df_inv.csv\")"
   ]
  },
  {
   "cell_type": "code",
   "execution_count": 26,
   "id": "3deaff7f-68b0-4b22-a5c1-b1b655fc0d86",
   "metadata": {},
   "outputs": [],
   "source": [
    "post_covid_expected_df.to_csv(f\"{data_folder}post_covid_expected_df_inv.csv\")\n",
    "test_expected_df.to_csv(f\"{data_folder}test_expected_df_inv.csv\")"
   ]
  },
  {
   "cell_type": "code",
   "execution_count": null,
   "id": "5c5f8a85-f937-40a4-8f34-2ad12e71b683",
   "metadata": {},
   "outputs": [],
   "source": []
  }
 ],
 "metadata": {
  "kernelspec": {
   "display_name": "Python 3 (ipykernel)",
   "language": "python",
   "name": "python3"
  },
  "language_info": {
   "codemirror_mode": {
    "name": "ipython",
    "version": 3
   },
   "file_extension": ".py",
   "mimetype": "text/x-python",
   "name": "python",
   "nbconvert_exporter": "python",
   "pygments_lexer": "ipython3",
   "version": "3.7.10"
  }
 },
 "nbformat": 4,
 "nbformat_minor": 5
}
